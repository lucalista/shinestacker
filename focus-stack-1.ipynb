{
 "cells": [
  {
   "cell_type": "markdown",
   "id": "8f55d468-3b6d-4da0-85a3-8b352e091ad3",
   "metadata": {},
   "source": [
    "# Focus stacking with image bunches\n",
    "\n",
    "Example of focus stacking with automatic alignment and luminosity balance, and partial stacking of image bunches before the final stacking."
   ]
  },
  {
   "cell_type": "code",
   "execution_count": null,
   "id": "afad7653-6e46-47e2-9d9c-5c990256e79d",
   "metadata": {
    "tags": []
   },
   "outputs": [],
   "source": [
    "from focus_stack import *"
   ]
  },
  {
   "cell_type": "code",
   "execution_count": null,
   "id": "213226fb-5190-4f34-8dcc-38a0661d4e76",
   "metadata": {
    "tags": []
   },
   "outputs": [],
   "source": [
    "job = StackJob(\"job\", \"E:/Focus stacking/2025-04-21 - Hemiptera\")\n",
    "job.add_action(NoiseDetection(\"noise-map\", input_path=[\"J/src\"]))\n",
    "job.run()"
   ]
  },
  {
   "cell_type": "code",
   "execution_count": null,
   "id": "5b33295d-c935-47a6-9378-ee9ecaa9cd21",
   "metadata": {},
   "outputs": [],
   "source": [
    "def make_job(x, y):\n",
    "    job = StackJob(\"job\", x + y, input_path=\"src\")\n",
    "    job.add_action(Actions(\"align\", actions=[MaskNoise(\"../noise-map/hot-rgb.png\"),\n",
    "                                             AlignFrames(),\n",
    "                                             BalanceFrames(channel=\"RGB\", corr_map=MATCH_HIST, mask_size=0.99))]))\n",
    "    job.add_action(FocusStackBunch(\"bunches\", PyramidStack(), exif_path=\"src\", frames=13, overlap=2, denoise=0))\n",
    "    job.add_action(FocusStack(\"stack\", PyramidStack(), exif_path=\"src\", postfix='_pyr', denoise=0))\n",
    "    job.add_action(MultiLayer(\"multilayer\", input_path=['bunches', 'stack']))\n",
    "    return job"
   ]
  },
  {
   "cell_type": "code",
   "execution_count": null,
   "id": "aef2b41e-377f-46af-a3fe-37b944a8fd1f",
   "metadata": {},
   "outputs": [],
   "source": [
    "for x in [\"E:/Focus stacking/2025-04-21 - Hemiptera/\"]:\n",
    "    for y in ['A']:\n",
    "        make_job(x, y).run()"
   ]
  }
 ],
 "metadata": {
  "kernelspec": {
   "display_name": "Python [conda env:base] *",
   "language": "python",
   "name": "conda-base-py"
  },
  "language_info": {
   "codemirror_mode": {
    "name": "ipython",
    "version": 3
   },
   "file_extension": ".py",
   "mimetype": "text/x-python",
   "name": "python",
   "nbconvert_exporter": "python",
   "pygments_lexer": "ipython3",
   "version": "3.12.7"
  }
 },
 "nbformat": 4,
 "nbformat_minor": 5
}
