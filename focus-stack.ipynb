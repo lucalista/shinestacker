{
 "cells": [
  {
   "cell_type": "markdown",
   "id": "b313aa87-dfb1-4c83-b452-e3d3dca42208",
   "metadata": {
    "tags": []
   },
   "source": [
    "# Focus stacking with image batches\n",
    "\n",
    "basedon [Laplacian pyramids method](https://github.com/sjawhar/focus-stacking).\n",
    "\n",
    "Resources:\n",
    "\n",
    "* [another implementation on GitHub](https://github.com/bznick98/Focus_Stacking)\n",
    "* possible align improvement: [align with OpenCV](https://magamig.github.io/posts/accurate-image-alignment-and-registration-using-opencv/)\n",
    "* [Balancing contrast and brightness between stitched images](https://itecnote.com/tecnote/opencv-balancing-contrast-and-brightness-between-stitched-images/)"
   ]
  },
  {
   "cell_type": "code",
   "execution_count": 1,
   "id": "fd9b96a6-fba0-4728-8ae4-7b01ef3236b0",
   "metadata": {
    "tags": []
   },
   "outputs": [],
   "source": [
    "import focus_stack as stk\n",
    "import cv2"
   ]
  },
  {
   "cell_type": "code",
   "execution_count": 2,
   "id": "2e155139-d00b-4415-a9b5-5b68434557dd",
   "metadata": {
    "tags": []
   },
   "outputs": [],
   "source": [
    "base_path = \"E:/Focus stacking/2023-11-12 - Trichoptera/\"\n",
    "input_dir = base_path+\"aligned\"\n",
    "bactch_dir = base_path+\"batches\"\n",
    "stack_dir = base_path+\"stacked\"\n",
    "stk.mkdir(input_dir)\n",
    "stk.mkdir(bactch_dir)\n",
    "stk.mkdir(stack_dir)"
   ]
  },
  {
   "cell_type": "code",
   "execution_count": 3,
   "id": "514f76d3-49c1-4968-b825-ed4614dd7c0f",
   "metadata": {
    "tags": []
   },
   "outputs": [
    {
     "name": "stdout",
     "output_type": "stream",
     "text": [
      "Folder: 'E:/Focus stacking/2023-11-12 - Trichoptera/aligned'\n",
      "- 65 files: _MG_0709.jpg, _MG_0710.jpg, _MG_0711.jpg, _MG_0712.jpg, _MG_0713.jpg, _MG_0714.jpg, _MG_0715.jpg, _MG_0716.jpg, _MG_0717.jpg, _MG_0718.jpg, _MG_0719.jpg, _MG_0720.jpg, _MG_0721.jpg, _MG_0722.jpg, _MG_0723.jpg, _MG_0724.jpg, _MG_0725.jpg, _MG_0726.jpg, _MG_0727.jpg, _MG_0728.jpg, _MG_0729.jpg, _MG_0730.jpg, _MG_0731.jpg, _MG_0732.jpg, _MG_0733.jpg, _MG_0734.jpg, _MG_0735.jpg, _MG_0736.jpg, _MG_0737.jpg, _MG_0738.jpg, _MG_0739.jpg, _MG_0740.jpg, _MG_0741.jpg, _MG_0742.jpg, _MG_0743.jpg, _MG_0744.jpg, _MG_0745.jpg, _MG_0746.jpg, _MG_0747.jpg, _MG_0748.jpg, _MG_0749.jpg, _MG_0750.jpg, _MG_0751.jpg, _MG_0752.jpg, _MG_0753.jpg, _MG_0754.jpg, _MG_0755.jpg, _MG_0756.jpg, _MG_0757.jpg, _MG_0758.jpg, _MG_0759.jpg, _MG_0760.jpg, _MG_0761.jpg, _MG_0762.jpg, _MG_0763.jpg, _MG_0764.jpg, _MG_0765.jpg, _MG_0766.jpg, _MG_0767.jpg, _MG_0768.jpg, _MG_0769.jpg, _MG_0770.jpg, _MG_0771.jpg, _MG_0772.jpg, _MG_0773.jpg\n",
      "focus stack merge E:/Focus stacking/2023-11-12 - Trichoptera/aligned, 8 files: _MG_0709.jpg, _MG_0710.jpg, _MG_0711.jpg, _MG_0712.jpg, _MG_0713.jpg, _MG_0714.jpg, _MG_0715.jpg, _MG_0716.jpg\n",
      "- gaussian pyramids, level: 6 5 4 3 2 1 gaussian pyramids completed\n",
      "- laplacian pyramids, level:  6 5 4 3 2 1 laplacian pyramids completed\n",
      "- fuse pyramids, layer:  6 5 4 3 2 1 fuse pyramids completed \n",
      "stack done\n",
      "saving: E:/Focus stacking/2023-11-12 - Trichoptera/batches/_MG_0709.jpg\n",
      "focus stack merge E:/Focus stacking/2023-11-12 - Trichoptera/aligned, 8 files: _MG_0717.jpg, _MG_0718.jpg, _MG_0719.jpg, _MG_0720.jpg, _MG_0721.jpg, _MG_0722.jpg, _MG_0723.jpg, _MG_0724.jpg\n",
      "- gaussian pyramids, level: 6 5 4 3 2 1 gaussian pyramids completed\n",
      "- laplacian pyramids, level:  6 5 4 3 2 1 laplacian pyramids completed\n",
      "- fuse pyramids, layer:  6 5 4 3 2 1 fuse pyramids completed \n",
      "stack done\n",
      "saving: E:/Focus stacking/2023-11-12 - Trichoptera/batches/_MG_0717.jpg\n",
      "focus stack merge E:/Focus stacking/2023-11-12 - Trichoptera/aligned, 8 files: _MG_0725.jpg, _MG_0726.jpg, _MG_0727.jpg, _MG_0728.jpg, _MG_0729.jpg, _MG_0730.jpg, _MG_0731.jpg, _MG_0732.jpg\n",
      "- gaussian pyramids, level: 6 5 4 3 2 1 gaussian pyramids completed\n",
      "- laplacian pyramids, level:  6 5 4 3 2 1 laplacian pyramids completed\n",
      "- fuse pyramids, layer:  6 5 4 3 2 1 fuse pyramids completed \n",
      "stack done\n",
      "saving: E:/Focus stacking/2023-11-12 - Trichoptera/batches/_MG_0725.jpg\n",
      "focus stack merge E:/Focus stacking/2023-11-12 - Trichoptera/aligned, 8 files: _MG_0733.jpg, _MG_0734.jpg, _MG_0735.jpg, _MG_0736.jpg, _MG_0737.jpg, _MG_0738.jpg, _MG_0739.jpg, _MG_0740.jpg\n",
      "- gaussian pyramids, level: 6 5 4 3 2 1 gaussian pyramids completed\n",
      "- laplacian pyramids, level:  6 5 4 3 2 1 laplacian pyramids completed\n",
      "- fuse pyramids, layer:  6 5 4 3 2 1 fuse pyramids completed \n",
      "stack done\n",
      "saving: E:/Focus stacking/2023-11-12 - Trichoptera/batches/_MG_0733.jpg\n",
      "focus stack merge E:/Focus stacking/2023-11-12 - Trichoptera/aligned, 8 files: _MG_0741.jpg, _MG_0742.jpg, _MG_0743.jpg, _MG_0744.jpg, _MG_0745.jpg, _MG_0746.jpg, _MG_0747.jpg, _MG_0748.jpg\n",
      "- gaussian pyramids, level: 6 5 4 3 2 1 gaussian pyramids completed\n",
      "- laplacian pyramids, level:  6 5 4 3 2 1 laplacian pyramids completed\n",
      "- fuse pyramids, layer:  6 5 4 3 2 1 fuse pyramids completed \n",
      "stack done\n",
      "saving: E:/Focus stacking/2023-11-12 - Trichoptera/batches/_MG_0741.jpg\n",
      "focus stack merge E:/Focus stacking/2023-11-12 - Trichoptera/aligned, 8 files: _MG_0749.jpg, _MG_0750.jpg, _MG_0751.jpg, _MG_0752.jpg, _MG_0753.jpg, _MG_0754.jpg, _MG_0755.jpg, _MG_0756.jpg\n",
      "- gaussian pyramids, level: 6 5 4 3 2 1 gaussian pyramids completed\n",
      "- laplacian pyramids, level:  6 5 4 3 2 1 laplacian pyramids completed\n",
      "- fuse pyramids, layer:  6 5 4 3 2 1 fuse pyramids completed \n",
      "stack done\n",
      "saving: E:/Focus stacking/2023-11-12 - Trichoptera/batches/_MG_0749.jpg\n",
      "focus stack merge E:/Focus stacking/2023-11-12 - Trichoptera/aligned, 8 files: _MG_0757.jpg, _MG_0758.jpg, _MG_0759.jpg, _MG_0760.jpg, _MG_0761.jpg, _MG_0762.jpg, _MG_0763.jpg, _MG_0764.jpg\n",
      "- gaussian pyramids, level: 6 5 4 3 2 1 gaussian pyramids completed\n",
      "- laplacian pyramids, level:  6 5 4 3 2 1 laplacian pyramids completed\n",
      "- fuse pyramids, layer:  6 5 4 3 2 1 fuse pyramids completed \n",
      "stack done\n",
      "saving: E:/Focus stacking/2023-11-12 - Trichoptera/batches/_MG_0757.jpg\n",
      "focus stack merge E:/Focus stacking/2023-11-12 - Trichoptera/aligned, 8 files: _MG_0765.jpg, _MG_0766.jpg, _MG_0767.jpg, _MG_0768.jpg, _MG_0769.jpg, _MG_0770.jpg, _MG_0771.jpg, _MG_0772.jpg\n",
      "- gaussian pyramids, level: 6 5 4 3 2 1 gaussian pyramids completed\n",
      "- laplacian pyramids, level:  6 5 4 3 2 1 laplacian pyramids completed\n",
      "- fuse pyramids, layer:  6 5 4 3 2 1 fuse pyramids completed \n",
      "stack done\n",
      "saving: E:/Focus stacking/2023-11-12 - Trichoptera/batches/_MG_0765.jpg\n",
      "focus stack merge E:/Focus stacking/2023-11-12 - Trichoptera/aligned, 1 files: _MG_0773.jpg\n",
      "- gaussian pyramids, level: 6 5 4 3 2 1 gaussian pyramids completed\n",
      "- laplacian pyramids, level:  6 5 4 3 2 1 laplacian pyramids completed\n",
      "- fuse pyramids, layer:  6 5 4 3 2 1 fuse pyramids completed \n",
      "stack done\n",
      "saving: E:/Focus stacking/2023-11-12 - Trichoptera/batches/_MG_0773.jpg\n"
     ]
    }
   ],
   "source": [
    "stk.focus_stack_chunks(input_dir, bactch_dir, n_chunks = 8)"
   ]
  },
  {
   "cell_type": "code",
   "execution_count": 3,
   "id": "785f0fa6-bf27-493e-ae16-0d92d2a5bb59",
   "metadata": {
    "tags": []
   },
   "outputs": [
    {
     "name": "stdout",
     "output_type": "stream",
     "text": [
      "Folder: 'E:/Focus stacking/2023-11-12 - Trichoptera/batches'\n",
      "- 9 files: _MG_0709.jpg, _MG_0717.jpg, _MG_0725.jpg, _MG_0733.jpg, _MG_0741.jpg, _MG_0749.jpg, _MG_0757.jpg, _MG_0765.jpg, _MG_0773.jpg\n",
      "focus stack merge E:/Focus stacking/2023-11-12 - Trichoptera/batches, 9 files: _MG_0709.jpg, _MG_0717.jpg, _MG_0725.jpg, _MG_0733.jpg, _MG_0741.jpg, _MG_0749.jpg, _MG_0757.jpg, _MG_0765.jpg, _MG_0773.jpg\n",
      "get focus map\n",
      "blend images\n",
      "stack done\n",
      "saving: E:/Focus stacking/2023-11-12 - Trichoptera/stacked/_MG_0709_stack_avg.jpg\n",
      "Folder: 'E:/Focus stacking/2023-11-12 - Trichoptera/batches'\n",
      "- 9 files: _MG_0709.jpg, _MG_0717.jpg, _MG_0725.jpg, _MG_0733.jpg, _MG_0741.jpg, _MG_0749.jpg, _MG_0757.jpg, _MG_0765.jpg, _MG_0773.jpg\n",
      "focus stack merge E:/Focus stacking/2023-11-12 - Trichoptera/batches, 9 files: _MG_0709.jpg, _MG_0717.jpg, _MG_0725.jpg, _MG_0733.jpg, _MG_0741.jpg, _MG_0749.jpg, _MG_0757.jpg, _MG_0765.jpg, _MG_0773.jpg\n",
      "get focus map\n",
      "blend images\n",
      "stack done\n",
      "saving: E:/Focus stacking/2023-11-12 - Trichoptera/stacked/_MG_0709_stack_pyr.jpg\n"
     ]
    }
   ],
   "source": [
    "stk.focus_stack_dir(bactch_dir, stack_dir, postfix='_stack_avg', choice = stk.CHOICE_AVERAGE, energy=stk.ENERGY_LAPLACIAN)\n",
    "stk.focus_stack_dir(bactch_dir, stack_dir, postfix='_stack_pyr')"
   ]
  },
  {
   "cell_type": "code",
   "execution_count": null,
   "id": "db469cae-9549-4037-a622-4953ae7a9cc5",
   "metadata": {},
   "outputs": [],
   "source": []
  }
 ],
 "metadata": {
  "kernelspec": {
   "display_name": "Python 3 (ipykernel)",
   "language": "python",
   "name": "python3"
  },
  "language_info": {
   "codemirror_mode": {
    "name": "ipython",
    "version": 3
   },
   "file_extension": ".py",
   "mimetype": "text/x-python",
   "name": "python",
   "nbconvert_exporter": "python",
   "pygments_lexer": "ipython3",
   "version": "3.11.5"
  }
 },
 "nbformat": 4,
 "nbformat_minor": 5
}
