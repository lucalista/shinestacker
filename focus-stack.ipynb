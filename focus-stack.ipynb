{
 "cells": [
  {
   "cell_type": "markdown",
   "id": "b313aa87-dfb1-4c83-b452-e3d3dca42208",
   "metadata": {
    "tags": []
   },
   "source": [
    "# Focus stacking with image batches\n",
    "\n",
    "basedon [Laplacian pyramids method](https://github.com/sjawhar/focus-stacking).\n",
    "\n",
    "Resources:\n",
    "\n",
    "* [another implementation on GitHub](https://github.com/bznick98/Focus_Stacking)\n",
    "* possible align improvement: [align with OpenCV](https://magamig.github.io/posts/accurate-image-alignment-and-registration-using-opencv/)\n",
    "* [Balancing contrast and brightness between stitched images](https://itecnote.com/tecnote/opencv-balancing-contrast-and-brightness-between-stitched-images/)"
   ]
  },
  {
   "cell_type": "code",
   "execution_count": null,
   "id": "fd9b96a6-fba0-4728-8ae4-7b01ef3236b0",
   "metadata": {
    "tags": []
   },
   "outputs": [],
   "source": [
    "import focus_stack as stk\n",
    "import cv2"
   ]
  },
  {
   "cell_type": "code",
   "execution_count": null,
   "id": "2e155139-d00b-4415-a9b5-5b68434557dd",
   "metadata": {
    "tags": []
   },
   "outputs": [],
   "source": [
    "base_path = \"E:/Focus stacking/2024-02-04 - Coleoptera remake/\"\n",
    "input_dir = base_path+\"aligned\"\n",
    "bactch_dir = base_path+\"batches\"\n",
    "stack_dir = base_path+\"stacked\"\n",
    "stk.mkdir(input_dir)\n",
    "stk.mkdir(bactch_dir)\n",
    "stk.mkdir(stack_dir)"
   ]
  },
  {
   "cell_type": "code",
   "execution_count": null,
   "id": "514f76d3-49c1-4968-b825-ed4614dd7c0f",
   "metadata": {
    "tags": []
   },
   "outputs": [],
   "source": [
    "stk.focus_stack_chunks(input_dir, bactch_dir, n_chunks = 8)"
   ]
  },
  {
   "cell_type": "code",
   "execution_count": null,
   "id": "785f0fa6-bf27-493e-ae16-0d92d2a5bb59",
   "metadata": {
    "tags": []
   },
   "outputs": [],
   "source": [
    "stk.focus_stack_dir(bactch_dir, stack_dir, postfix='_stack_avg', choice = stk.CHOICE_AVERAGE, energy=stk.ENERGY_LAPLACIAN)\n",
    "stk.focus_stack_dir(bactch_dir, stack_dir, postfix='_stack_pyr')"
   ]
  },
  {
   "cell_type": "code",
   "execution_count": null,
   "id": "db469cae-9549-4037-a622-4953ae7a9cc5",
   "metadata": {},
   "outputs": [],
   "source": []
  }
 ],
 "metadata": {
  "kernelspec": {
   "display_name": "Python 3 (ipykernel)",
   "language": "python",
   "name": "python3"
  },
  "language_info": {
   "codemirror_mode": {
    "name": "ipython",
    "version": 3
   },
   "file_extension": ".py",
   "mimetype": "text/x-python",
   "name": "python",
   "nbconvert_exporter": "python",
   "pygments_lexer": "ipython3",
   "version": "3.11.5"
  }
 },
 "nbformat": 4,
 "nbformat_minor": 5
}
