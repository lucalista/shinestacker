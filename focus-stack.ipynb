{
 "cells": [
  {
   "cell_type": "markdown",
   "id": "63aa300b-8f2d-4f19-8da9-c25908185dae",
   "metadata": {},
   "source": [
    "# Focus stacking with image bunches\n",
    "\n",
    "Example of focus stacking with automatic alignment and luminosity balance, and partial stacking of image bunches before the final stacking."
   ]
  },
  {
   "cell_type": "code",
   "execution_count": null,
   "id": "a7063055-87c8-4c4b-9ea5-9f39b63d697d",
   "metadata": {},
   "outputs": [],
   "source": [
    "from focus_stack import *\n",
    "\n",
    "path = \"E:/Focus stacking/MyImages\"\n",
    "\n",
    "job = StackJob(\"job\", path, input_path=\"src\")\n",
    "job.add_action(NoiseDetection(\"noise-map\"))\n",
    "job.run()\n",
    "\n",
    "job = StackJob(\"job\", path, input_path=\"src\")\n",
    "job.add_action(Actions(\"align\", actions=[MaskNoise(),\n",
    "                                         AlignFrames(),\n",
    "                                         BalanceFrames(channel=\"RGB\", corr_map=MATCH_HIST, mask_size=0.99))]))\n",
    "job.add_action(FocusStackBunch(\"bunches\", PyramidStack(), exif_path=\"src\", frames=13, overlap=2, denoise=0))\n",
    "job.add_action(FocusStack(\"stack\", PyramidStack(), exif_path=\"src\", postfix='_pyr', denoise=0))\n",
    "job.add_action(MultiLayer(\"multilayer\", input_path=['bunches', 'stack']))\n",
    "return job"
   ]
  }
 ],
 "metadata": {
  "kernelspec": {
   "display_name": "Python [conda env:base] *",
   "language": "python",
   "name": "conda-base-py"
  },
  "language_info": {
   "codemirror_mode": {
    "name": "ipython",
    "version": 3
   },
   "file_extension": ".py",
   "mimetype": "text/x-python",
   "name": "python",
   "nbconvert_exporter": "python",
   "pygments_lexer": "ipython3",
   "version": "3.12.7"
  }
 },
 "nbformat": 4,
 "nbformat_minor": 5
}
