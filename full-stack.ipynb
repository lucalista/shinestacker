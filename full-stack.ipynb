{
 "cells": [
  {
   "cell_type": "code",
   "execution_count": 1,
   "id": "c02baf43-07ca-440c-8219-2b91ba256703",
   "metadata": {
    "tags": []
   },
   "outputs": [
    {
     "ename": "NameError",
     "evalue": "name 'ENERGY_LAPLACIANN' is not defined",
     "output_type": "error",
     "traceback": [
      "\u001b[1;31m---------------------------------------------------------------------------\u001b[0m",
      "\u001b[1;31mNameError\u001b[0m                                 Traceback (most recent call last)",
      "Cell \u001b[1;32mIn[1], line 1\u001b[0m\n\u001b[1;32m----> 1\u001b[0m \u001b[38;5;28;01mimport\u001b[39;00m \u001b[38;5;21;01mfocus_stack\u001b[39;00m \u001b[38;5;28;01mas\u001b[39;00m \u001b[38;5;21;01mstk\u001b[39;00m\n\u001b[0;32m      2\u001b[0m \u001b[38;5;28;01mimport\u001b[39;00m \u001b[38;5;21;01mtime\u001b[39;00m\n",
      "File \u001b[1;32m~\\Documents\\GitHub\\focusstack\\focus_stack\\__init__.py:10\u001b[0m\n\u001b[0;32m      8\u001b[0m \u001b[38;5;28;01mfrom\u001b[39;00m \u001b[38;5;21;01m.\u001b[39;00m\u001b[38;5;21;01malign\u001b[39;00m \u001b[38;5;28;01mimport\u001b[39;00m align_frames\n\u001b[0;32m      9\u001b[0m \u001b[38;5;28;01mfrom\u001b[39;00m \u001b[38;5;21;01m.\u001b[39;00m\u001b[38;5;21;01mbalance\u001b[39;00m \u001b[38;5;28;01mimport\u001b[39;00m lumi_balance\n\u001b[1;32m---> 10\u001b[0m \u001b[38;5;28;01mfrom\u001b[39;00m \u001b[38;5;21;01m.\u001b[39;00m\u001b[38;5;21;01mstack\u001b[39;00m \u001b[38;5;28;01mimport\u001b[39;00m focus_stack_chunks\n\u001b[0;32m     11\u001b[0m \u001b[38;5;28;01mfrom\u001b[39;00m \u001b[38;5;21;01m.\u001b[39;00m\u001b[38;5;21;01mstack\u001b[39;00m \u001b[38;5;28;01mimport\u001b[39;00m focus_stack_dir\n\u001b[0;32m     13\u001b[0m ENERGY_SOBEL \u001b[38;5;241m=\u001b[39m \u001b[38;5;124m\"\u001b[39m\u001b[38;5;124msobel\u001b[39m\u001b[38;5;124m\"\u001b[39m\n",
      "File \u001b[1;32m~\\Documents\\GitHub\\focusstack\\focus_stack\\stack.py:99\u001b[0m\n\u001b[0;32m     96\u001b[0m     \u001b[38;5;28;01mfor\u001b[39;00m c \u001b[38;5;129;01min\u001b[39;00m cnk:\n\u001b[0;32m     97\u001b[0m         focus_stack(c, input_dir, bactch_dir, postfix, choice, energy)\n\u001b[1;32m---> 99\u001b[0m \u001b[38;5;28;01mdef\u001b[39;00m \u001b[38;5;21mfocus_stack_dir\u001b[39m(input_dir, output_dir, postfix\u001b[38;5;241m=\u001b[39m\u001b[38;5;124m'\u001b[39m\u001b[38;5;124m_stack_avg\u001b[39m\u001b[38;5;124m'\u001b[39m, choice\u001b[38;5;241m=\u001b[39mCHOICE_PYRAMID, energy\u001b[38;5;241m=\u001b[39mENERGY_LAPLACIANN):\n\u001b[0;32m    100\u001b[0m     fnames \u001b[38;5;241m=\u001b[39m file_folder(input_dir)\n\u001b[0;32m    101\u001b[0m     focus_stack(fnames, input_dir, output_dir, postfix, choice, energy)\n",
      "\u001b[1;31mNameError\u001b[0m: name 'ENERGY_LAPLACIANN' is not defined"
     ]
    }
   ],
   "source": [
    "import focus_stack as stk\n",
    "import time"
   ]
  },
  {
   "cell_type": "code",
   "execution_count": null,
   "id": "7d2665c2-023e-4ac6-8706-d292b80f23ad",
   "metadata": {
    "tags": []
   },
   "outputs": [],
   "source": [
    "t0 = time.time()\n",
    "base_path = \"E:/Focus stacking/2024-02-25 - Sciaridae/B/\"\n",
    "input_path = base_path+\"Immagini modificate\"\n",
    "align_path = base_path+\"aligned\"\n",
    "lumi_path = base_path+\"lumi_balance\"\n",
    "bactch_dir = base_path+\"batches\"\n",
    "stack_dir = base_path+\"stacked\"\n",
    "stk.mkdir(align_path)\n",
    "stk.mkdir(lumi_path)\n",
    "stk.mkdir(bactch_dir)\n",
    "stk.mkdir(stack_dir)"
   ]
  },
  {
   "cell_type": "code",
   "execution_count": null,
   "id": "62591d59-6684-4288-b683-0c5cfc0a2197",
   "metadata": {
    "scrolled": true,
    "tags": []
   },
   "outputs": [],
   "source": [
    "start = time.time()\n",
    "stk.align_frames(input_path, align_path, detector_method='SIFT', descriptor_method='SIFT', match_method='KNN', flann_idx_kdtree=2, match_threshold=0.75)\n",
    "stk.print_elapsed_time(start)"
   ]
  },
  {
   "cell_type": "code",
   "execution_count": null,
   "id": "c22779a4-6ce7-4134-9d1d-d808dc83cbd5",
   "metadata": {
    "scrolled": true,
    "tags": []
   },
   "outputs": [],
   "source": [
    "start = time.time()\n",
    "stk.lumi_balance(align_path, lumi_path, mask_size=0.8)\n",
    "stk.print_elapsed_time(start)"
   ]
  },
  {
   "cell_type": "code",
   "execution_count": null,
   "id": "43fde978-5d51-4336-9556-0ce6db238fbc",
   "metadata": {
    "scrolled": true,
    "tags": []
   },
   "outputs": [],
   "source": [
    "start = time.time()\n",
    "stk.focus_stack_chunks(lumi_path, bactch_dir, n_chunks=10, overlap=2)\n",
    "stk.print_elapsed_time(start)"
   ]
  },
  {
   "cell_type": "code",
   "execution_count": null,
   "id": "f16e59ca-8221-4396-995a-b2208ba36c2a",
   "metadata": {
    "tags": []
   },
   "outputs": [],
   "source": [
    "start = time.time()\n",
    "stk.focus_stack_dir(bactch_dir, stack_dir, postfix='_stack_avg', choice = stk.CHOICE_AVERAGE, energy=stk.ENERGY_LAPLACIAN)\n",
    "stk.print_elapsed_time(start)"
   ]
  },
  {
   "cell_type": "code",
   "execution_count": null,
   "id": "ae57e81c-73af-4593-85fc-261a6948adfe",
   "metadata": {
    "tags": []
   },
   "outputs": [],
   "source": [
    "start = time.time()\n",
    "stk.focus_stack_dir(bactch_dir, stack_dir, postfix='_stack_pyr', choice=stk.CHOICE_PYRAMID, energy=stk.ENERGY_LAPLACIAN)\n",
    "stk.print_elapsed_time(start)"
   ]
  },
  {
   "cell_type": "code",
   "execution_count": null,
   "id": "66d0e392-2ea2-4bbf-8688-4e2a96b2d5e2",
   "metadata": {
    "tags": []
   },
   "outputs": [],
   "source": [
    "print(\"total \", end='')\n",
    "stk.print_elapsed_time(t0)"
   ]
  }
 ],
 "metadata": {
  "kernelspec": {
   "display_name": "Python 3 (ipykernel)",
   "language": "python",
   "name": "python3"
  },
  "language_info": {
   "codemirror_mode": {
    "name": "ipython",
    "version": 3
   },
   "file_extension": ".py",
   "mimetype": "text/x-python",
   "name": "python",
   "nbconvert_exporter": "python",
   "pygments_lexer": "ipython3",
   "version": "3.11.5"
  }
 },
 "nbformat": 4,
 "nbformat_minor": 5
}
