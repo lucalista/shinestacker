{
 "cells": [
  {
   "cell_type": "markdown",
   "id": "14930c54-a1cb-4f43-9249-4aa3db6b60db",
   "metadata": {
    "tags": []
   },
   "source": [
    "# Focus stacking with image batches\n",
    "\n",
    "basedon [Laplacian pyramids method](https://github.com/sjawhar/focus-stacking).\n",
    "\n",
    "Resources:\n",
    "\n",
    "* [another implementation on GitHub](https://github.com/bznick98/Focus_Stacking)\n",
    "* possible align improvement: [align with OpenCV](https://magamig.github.io/posts/accurate-image-alignment-and-registration-using-opencv/)\n",
    "* [Balancing contrast and brightness between stitched images](https://itecnote.com/tecnote/opencv-balancing-contrast-and-brightness-between-stitched-images/)\n",
    "* [Pyramid Methods in Image Processing](https://www.researchgate.net/publication/246727904_Pyramid_Methods_in_Image_Processing)"
   ]
  },
  {
   "cell_type": "code",
   "execution_count": 1,
   "id": "09d09307-b950-481f-b8ef-821b6f38d28f",
   "metadata": {
    "tags": []
   },
   "outputs": [],
   "source": [
    "import focus_stack as stk\n",
    "import time"
   ]
  },
  {
   "cell_type": "code",
   "execution_count": 2,
   "id": "5ce283d3-6550-4189-89a7-8678496bdac5",
   "metadata": {
    "tags": []
   },
   "outputs": [],
   "source": [
    "t0 = time.time()\n",
    "base_path = \"E:/Focus stacking/2024-03-17 - Baltic Diptera/F/\"\n",
    "input_path = base_path+\"Immagini modificate\"\n",
    "align_path = base_path+\"aligned\"\n",
    "lumi_path = base_path+\"lumi_balance\"\n",
    "batch_dir = base_path+\"batches\"\n",
    "stack_dir = base_path+\"stacked\"\n",
    "stk.mkdir(align_path)\n",
    "stk.mkdir(lumi_path)\n",
    "stk.mkdir(batch_dir)\n",
    "stk.mkdir(stack_dir)"
   ]
  },
  {
   "cell_type": "code",
   "execution_count": 3,
   "id": "a93cbf88-c586-49dd-8aee-28dfd0f2f970",
   "metadata": {
    "scrolled": true,
    "tags": []
   },
   "outputs": [],
   "source": [
    "#start = time.time()\n",
    "#stk.align_frames(input_path, align_path, detector_method='SIFT', descriptor_method='SIFT', match_method='KNN', flann_idx_kdtree=2, match_threshold=0.75)\n",
    "#stk.print_elapsed_time(start)"
   ]
  },
  {
   "cell_type": "code",
   "execution_count": 4,
   "id": "b8038137-4b4c-4a20-ad5b-9f4dbee8be85",
   "metadata": {
    "scrolled": true,
    "tags": []
   },
   "outputs": [],
   "source": [
    "#start = time.time()\n",
    "#stk.lumi_balance(align_path, lumi_path, mode=stk.BALANCE_LUMI, mask_radius=0.8, i_min=10)\n",
    "#stk.print_elapsed_time(start)"
   ]
  },
  {
   "cell_type": "code",
   "execution_count": null,
   "id": "1b4cf32d-8737-4be4-8ff1-cc73b0e1ad6d",
   "metadata": {
    "scrolled": true,
    "tags": []
   },
   "outputs": [
    {
     "name": "stdout",
     "output_type": "stream",
     "text": [
      "Folder: 'E:/Focus stacking/2024-03-17 - Baltic Diptera/F/lumi_balance'\n",
      "- 153 files: _0000__MG_6835.jpg.jpg, _0001__MG_6836.jpg.jpg, _0002__MG_6837.jpg.jpg, _0003__MG_6838.jpg.jpg, _0004__MG_6839.jpg.jpg, _0005__MG_6840.jpg.jpg, _0006__MG_6841.jpg.jpg, _0007__MG_6842.jpg.jpg, _0008__MG_6843.jpg.jpg, _0009__MG_6844.jpg.jpg, _0010__MG_6845.jpg.jpg, _0011__MG_6846.jpg.jpg, _0012__MG_6847.jpg.jpg, _0013__MG_6848.jpg.jpg, _0014__MG_6849.jpg.jpg, _0015__MG_6850.jpg.jpg, _0016__MG_6851.jpg.jpg, _0017__MG_6852.jpg.jpg, _0018__MG_6853.jpg.jpg, _0019__MG_6854.jpg.jpg, _0020__MG_6855.jpg.jpg, _0021__MG_6856.jpg.jpg, _0022__MG_6857.jpg.jpg, _0023__MG_6858.jpg.jpg, _0024__MG_6859.jpg.jpg, _0025__MG_6860.jpg.jpg, _0026__MG_6861.jpg.jpg, _0027__MG_6862.jpg.jpg, _0028__MG_6863.jpg.jpg, _0029__MG_6864.jpg.jpg, _0030__MG_6865.jpg.jpg, _0031__MG_6866.jpg.jpg, _0032__MG_6867.jpg.jpg, _0033__MG_6868.jpg.jpg, _0034__MG_6869.jpg.jpg, _0035__MG_6870.jpg.jpg, _0036__MG_6871.jpg.jpg, _0037__MG_6872.jpg.jpg, _0038__MG_6873.jpg.jpg, _0039__MG_6874.jpg.jpg, _0040__MG_6875.jpg.jpg, _0041__MG_6876.jpg.jpg, _0042__MG_6877.jpg.jpg, _0043__MG_6878.jpg.jpg, _0044__MG_6879.jpg.jpg, _0045__MG_6880.jpg.jpg, _0046__MG_6881.jpg.jpg, _0047__MG_6882.jpg.jpg, _0048__MG_6883.jpg.jpg, _0049__MG_6884.jpg.jpg, _0050__MG_6885.jpg.jpg, _0051__MG_6886.jpg.jpg, _0052__MG_6887.jpg.jpg, _0053__MG_6888.jpg.jpg, _0054__MG_6889.jpg.jpg, _0055__MG_6890.jpg.jpg, _0056__MG_6891.jpg.jpg, _0057__MG_6892.jpg.jpg, _0058__MG_6893.jpg.jpg, _0059__MG_6894.jpg.jpg, _0060__MG_6895.jpg.jpg, _0061__MG_6896.jpg.jpg, _0062__MG_6897.jpg.jpg, _0063__MG_6898.jpg.jpg, _0064__MG_6899.jpg.jpg, _0065__MG_6900.jpg.jpg, _0066__MG_6901.jpg.jpg, _0067__MG_6902.jpg.jpg, _0068__MG_6903.jpg.jpg, _0069__MG_6904.jpg.jpg, _0070__MG_6905.jpg.jpg, _0071__MG_6906.jpg.jpg, _0072__MG_6907.jpg.jpg, _0073__MG_6908.jpg.jpg, _0074__MG_6909.jpg.jpg, _0075__MG_6910.jpg.jpg, _0076__MG_6911.jpg.jpg, _0077__MG_6912.jpg.jpg, _0078__MG_6913.jpg.jpg, _0079__MG_6914.jpg.jpg, _0080__MG_6915.jpg.jpg, _0081__MG_6916.jpg.jpg, _0082__MG_6917.jpg.jpg, _0083__MG_6918.jpg.jpg, _0084__MG_6919.jpg.jpg, _0085__MG_6920.jpg.jpg, _0086__MG_6921.jpg.jpg, _0087__MG_6922.jpg.jpg, _0088__MG_6923.jpg.jpg, _0089__MG_6924.jpg.jpg, _0090__MG_6925.jpg.jpg, _0091__MG_6926.jpg.jpg, _0092__MG_6927.jpg.jpg, _0093__MG_6928.jpg.jpg, _0094__MG_6929.jpg.jpg, _0095__MG_6930.jpg.jpg, _0096__MG_6931.jpg.jpg, _0097__MG_6932.jpg.jpg, _0098__MG_6933.jpg.jpg, _0099__MG_6934.jpg.jpg, _0100__MG_6935.jpg.jpg, _0101__MG_6936.jpg.jpg, _0102__MG_6937.jpg.jpg, _0103__MG_6938.jpg.jpg, _0104__MG_6939.jpg.jpg, _0105__MG_6940.jpg.jpg, _0106__MG_6941.jpg.jpg, _0107__MG_6942.jpg.jpg, _0108__MG_6943.jpg.jpg, _0109__MG_6944.jpg.jpg, _0110__MG_6945.jpg.jpg, _0111__MG_6946.jpg.jpg, _0112__MG_6947.jpg.jpg, _0113__MG_6948.jpg.jpg, _0114__MG_6949.jpg.jpg, _0115__MG_6950.jpg.jpg, _0116__MG_6951.jpg.jpg, _0117__MG_6952.jpg.jpg, _0118__MG_6953.jpg.jpg, _0119__MG_6954.jpg.jpg, _0120__MG_6955.jpg.jpg, _0121__MG_6956.jpg.jpg, _0122__MG_6957.jpg.jpg, _0123__MG_6958.jpg.jpg, _0124__MG_6959.jpg.jpg, _0125__MG_6960.jpg.jpg, _0126__MG_6961.jpg.jpg, _0127__MG_6962.jpg.jpg, _0128__MG_6963.jpg.jpg, _0129__MG_6964.jpg.jpg, _0130__MG_6965.jpg.jpg, _0131__MG_6966.jpg.jpg, _0132__MG_6967.jpg.jpg, _0133__MG_6968.jpg.jpg, _0134__MG_6969.jpg.jpg, _0135__MG_6970.jpg.jpg, _0136__MG_6971.jpg.jpg, _0137__MG_6972.jpg.jpg, _0138__MG_6973.jpg.jpg, _0139__MG_6974.jpg.jpg, _0140__MG_6975.jpg.jpg, _0141__MG_6976.jpg.jpg, _0142__MG_6977.jpg.jpg, _0143__MG_6978.jpg.jpg, _0144__MG_6979.jpg.jpg, _0145__MG_6980.jpg.jpg, _0146__MG_6981.jpg.jpg, _0147__MG_6982.jpg.jpg, _0148__MG_6983.jpg.jpg, _0149__MG_6984.jpg.jpg, _0150__MG_6985.jpg.jpg, _0151__MG_6986.jpg.jpg, _0152__MG_6987.jpg.jpg\n",
      "focus stack merge E:/Focus stacking/2024-03-17 - Baltic Diptera/F/lumi_balance, 10 files: _0000__MG_6835.jpg.jpg, _0001__MG_6836.jpg.jpg, _0002__MG_6837.jpg.jpg, _0003__MG_6838.jpg.jpg, _0004__MG_6839.jpg.jpg, _0005__MG_6840.jpg.jpg, _0006__MG_6841.jpg.jpg, _0007__MG_6842.jpg.jpg, _0008__MG_6843.jpg.jpg, _0009__MG_6844.jpg.jpg\n",
      "- gaussian pyramids, level: 6 5 4 3 2 1 gaussian pyramids completed\n",
      "- laplacian pyramids, level:  6 5 4 3 2 1 laplacian pyramids completed\n",
      "- fuse pyramids, layer:  6 5 4 3 2 1 fuse pyramids completed \n",
      "stack done\n",
      "- save exif data\n",
      "focus stack merge E:/Focus stacking/2024-03-17 - Baltic Diptera/F/lumi_balance, 10 files: _0008__MG_6843.jpg.jpg, _0009__MG_6844.jpg.jpg, _0010__MG_6845.jpg.jpg, _0011__MG_6846.jpg.jpg, _0012__MG_6847.jpg.jpg, _0013__MG_6848.jpg.jpg, _0014__MG_6849.jpg.jpg, _0015__MG_6850.jpg.jpg, _0016__MG_6851.jpg.jpg, _0017__MG_6852.jpg.jpg\n",
      "- gaussian pyramids, level: 6 5 4 3 2 1 gaussian pyramids completed\n",
      "- laplacian pyramids, level:  6 5 4 3 2 1 laplacian pyramids completed\n",
      "- fuse pyramids, layer:  6 5 4 3 2 1 fuse pyramids completed \n",
      "stack done\n",
      "- save exif data\n",
      "focus stack merge E:/Focus stacking/2024-03-17 - Baltic Diptera/F/lumi_balance, 10 files: _0016__MG_6851.jpg.jpg, _0017__MG_6852.jpg.jpg, _0018__MG_6853.jpg.jpg, _0019__MG_6854.jpg.jpg, _0020__MG_6855.jpg.jpg, _0021__MG_6856.jpg.jpg, _0022__MG_6857.jpg.jpg, _0023__MG_6858.jpg.jpg, _0024__MG_6859.jpg.jpg, _0025__MG_6860.jpg.jpg\n",
      "- gaussian pyramids, level: 6 5 4 3 2 1 gaussian pyramids completed\n",
      "- laplacian pyramids, level:  6 5 4 3 2 1 laplacian pyramids completed\n",
      "- fuse pyramids, layer:  6 5 4 3 2 1 fuse pyramids completed \n",
      "stack done\n",
      "- save exif data\n",
      "focus stack merge E:/Focus stacking/2024-03-17 - Baltic Diptera/F/lumi_balance, 10 files: _0024__MG_6859.jpg.jpg, _0025__MG_6860.jpg.jpg, _0026__MG_6861.jpg.jpg, _0027__MG_6862.jpg.jpg, _0028__MG_6863.jpg.jpg, _0029__MG_6864.jpg.jpg, _0030__MG_6865.jpg.jpg, _0031__MG_6866.jpg.jpg, _0032__MG_6867.jpg.jpg, _0033__MG_6868.jpg.jpg\n",
      "- gaussian pyramids, level: 6 5 4 3 2 1 gaussian pyramids completed\n",
      "- laplacian pyramids, level:  6 5 4 3 2 1 laplacian pyramids completed\n",
      "- fuse pyramids, layer:  6 5 4 3 2 1 fuse pyramids completed \n",
      "stack done\n",
      "- save exif data\n",
      "focus stack merge E:/Focus stacking/2024-03-17 - Baltic Diptera/F/lumi_balance, 10 files: _0032__MG_6867.jpg.jpg, _0033__MG_6868.jpg.jpg, _0034__MG_6869.jpg.jpg, _0035__MG_6870.jpg.jpg, _0036__MG_6871.jpg.jpg, _0037__MG_6872.jpg.jpg, _0038__MG_6873.jpg.jpg, _0039__MG_6874.jpg.jpg, _0040__MG_6875.jpg.jpg, _0041__MG_6876.jpg.jpg\n",
      "- gaussian pyramids, level: 6 5 4 3 2 1 gaussian pyramids completed\n",
      "- laplacian pyramids, level:  6 5 4 3 2 1 laplacian pyramids completed\n",
      "- fuse pyramids, layer:  6 5 4 3 2 1 fuse pyramids completed \n",
      "stack done\n",
      "- save exif data\n",
      "focus stack merge E:/Focus stacking/2024-03-17 - Baltic Diptera/F/lumi_balance, 10 files: _0040__MG_6875.jpg.jpg, _0041__MG_6876.jpg.jpg, _0042__MG_6877.jpg.jpg, _0043__MG_6878.jpg.jpg, _0044__MG_6879.jpg.jpg, _0045__MG_6880.jpg.jpg, _0046__MG_6881.jpg.jpg, _0047__MG_6882.jpg.jpg, _0048__MG_6883.jpg.jpg, _0049__MG_6884.jpg.jpg\n",
      "- gaussian pyramids, level: 6 5 4 3 2 1 gaussian pyramids completed\n",
      "- laplacian pyramids, level:  6 5 4 3 2 1 laplacian pyramids completed\n",
      "- fuse pyramids, layer:  6 5 4 3 2 1 fuse pyramids completed \n"
     ]
    }
   ],
   "source": [
    "start = time.time()\n",
    "stk.focus_stack_chunks(lumi_path, batch_dir,  exif_dir=input_path, frames=10, overlap=2, denoise=0.75)\n",
    "stk.print_elapsed_time(start)"
   ]
  },
  {
   "cell_type": "code",
   "execution_count": null,
   "id": "bc31ca4f-d73f-4ee8-a81d-f1e0c97c9b08",
   "metadata": {
    "scrolled": true,
    "tags": []
   },
   "outputs": [],
   "source": [
    "start = time.time()\n",
    "stk.focus_stack_dir(batch_dir, stack_dir, exif_dir=input_path, postfix='_stack_avg', denoise=0.75, choice = stk.CHOICE_AVERAGE, energy=stk.ENERGY_LAPLACIAN)\n",
    "stk.print_elapsed_time(start)\n",
    "\n",
    "start = time.time()\n",
    "stk.focus_stack_dir(batch_dir, stack_dir, exif_dir=input_path, postfix='_stack_pyr', denoise=0.75, choice=stk.CHOICE_PYRAMID, energy=stk.ENERGY_LAPLACIAN)\n",
    "stk.print_elapsed_time(start)\n",
    "\n",
    "print(\"total \", end='')\n",
    "stk.print_elapsed_time(t0)"
   ]
  },
  {
   "cell_type": "code",
   "execution_count": null,
   "id": "ee7af87c-49d6-4c17-9d7d-bbf399db6322",
   "metadata": {},
   "outputs": [],
   "source": []
  }
 ],
 "metadata": {
  "kernelspec": {
   "display_name": "Python 3 (ipykernel)",
   "language": "python",
   "name": "python3"
  },
  "language_info": {
   "codemirror_mode": {
    "name": "ipython",
    "version": 3
   },
   "file_extension": ".py",
   "mimetype": "text/x-python",
   "name": "python",
   "nbconvert_exporter": "python",
   "pygments_lexer": "ipython3",
   "version": "3.11.5"
  }
 },
 "nbformat": 4,
 "nbformat_minor": 5
}
