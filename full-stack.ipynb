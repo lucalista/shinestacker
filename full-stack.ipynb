{
 "cells": [
  {
   "cell_type": "code",
   "execution_count": 1,
   "id": "c02baf43-07ca-440c-8219-2b91ba256703",
   "metadata": {
    "tags": []
   },
   "outputs": [],
   "source": [
    "import focus_stack as stk\n",
    "import time"
   ]
  },
  {
   "cell_type": "code",
   "execution_count": 2,
   "id": "7d2665c2-023e-4ac6-8706-d292b80f23ad",
   "metadata": {
    "tags": []
   },
   "outputs": [],
   "source": [
    "t0 = time.time()\n",
    "base_path = \"E:/Focus stacking/2023-12-31 - Exuvia/\"\n",
    "input_path = base_path+\"Immagini modificate\"\n",
    "align_path = base_path+\"aligned\"\n",
    "lumi_path = base_path+\"lumi_balance\"\n",
    "bactch_dir = base_path+\"batches\"\n",
    "stack_dir = base_path+\"stacked\"\n",
    "stk.mkdir(align_path)\n",
    "stk.mkdir(lumi_path)\n",
    "stk.mkdir(bactch_dir)\n",
    "stk.mkdir(stack_dir)"
   ]
  },
  {
   "cell_type": "code",
   "execution_count": null,
   "id": "62591d59-6684-4288-b683-0c5cfc0a2197",
   "metadata": {
    "scrolled": true,
    "tags": []
   },
   "outputs": [
    {
     "name": "stdout",
     "output_type": "stream",
     "text": [
      "Folder: 'E:/Focus stacking/2023-12-31 - Exuvia/Immagini modificate'\n",
      "- 86 files: _MG_3098.jpg, _MG_3099.jpg, _MG_3100.jpg, _MG_3101.jpg, _MG_3102.jpg, _MG_3103.jpg, _MG_3104.jpg, _MG_3105.jpg, _MG_3106.jpg, _MG_3107.jpg, _MG_3108.jpg, _MG_3109.jpg, _MG_3110.jpg, _MG_3111.jpg, _MG_3112.jpg, _MG_3113.jpg, _MG_3114.jpg, _MG_3115.jpg, _MG_3116.jpg, _MG_3117.jpg, _MG_3118.jpg, _MG_3119.jpg, _MG_3120.jpg, _MG_3121.jpg, _MG_3122.jpg, _MG_3123.jpg, _MG_3124.jpg, _MG_3125.jpg, _MG_3126.jpg, _MG_3127.jpg, _MG_3128.jpg, _MG_3129.jpg, _MG_3130.jpg, _MG_3131.jpg, _MG_3132.jpg, _MG_3133.jpg, _MG_3134.jpg, _MG_3135.jpg, _MG_3136.jpg, _MG_3137.jpg, _MG_3138.jpg, _MG_3139.jpg, _MG_3140.jpg, _MG_3141.jpg, _MG_3142.jpg, _MG_3143.jpg, _MG_3144.jpg, _MG_3145.jpg, _MG_3146.jpg, _MG_3147.jpg, _MG_3148.jpg, _MG_3149.jpg, _MG_3150.jpg, _MG_3151.jpg, _MG_3152.jpg, _MG_3153.jpg, _MG_3154.jpg, _MG_3155.jpg, _MG_3156.jpg, _MG_3157.jpg, _MG_3158.jpg, _MG_3159.jpg, _MG_3160.jpg, _MG_3161.jpg, _MG_3162.jpg, _MG_3163.jpg, _MG_3164.jpg, _MG_3165.jpg, _MG_3166.jpg, _MG_3167.jpg, _MG_3168.jpg, _MG_3169.jpg, _MG_3170.jpg, _MG_3171.jpg, _MG_3172.jpg, _MG_3173.jpg, _MG_3174.jpg, _MG_3175.jpg, _MG_3176.jpg, _MG_3177.jpg, _MG_3178.jpg, _MG_3179.jpg, _MG_3180.jpg, _MG_3181.jpg, _MG_3182.jpg, _MG_3183.jpg\n",
      "align _MG_3141.jpg -> _MG_3141.jpg: saving file duplicate\n",
      "align _MG_3142.jpg -> _MG_3141.jpg: matches: 883 \n",
      "align _MG_3143.jpg -> _MG_3142.jpg: matches: 977 \n",
      "align _MG_3144.jpg -> _MG_3143.jpg: matches: 918 \n",
      "align _MG_3145.jpg -> _MG_3144.jpg: matches: 907 \n",
      "align _MG_3146.jpg -> _MG_3145.jpg: matches: 719 \n",
      "align _MG_3147.jpg -> _MG_3146.jpg: matches: 695 \n",
      "align _MG_3148.jpg -> _MG_3147.jpg: matches: 694 \n",
      "align _MG_3149.jpg -> _MG_3148.jpg: matches: 584 \n",
      "align _MG_3150.jpg -> _MG_3149.jpg: matches: 575 \n",
      "align _MG_3151.jpg -> _MG_3150.jpg: matches: 683 \n",
      "align _MG_3152.jpg -> _MG_3151.jpg: matches: 629 \n",
      "align _MG_3153.jpg -> _MG_3152.jpg: matches: 655 \n",
      "align _MG_3154.jpg -> _MG_3153.jpg: matches: 619 \n",
      "align _MG_3155.jpg -> _MG_3154.jpg: matches: 609 \n",
      "align _MG_3156.jpg -> _MG_3155.jpg: matches: 671 \n",
      "align _MG_3157.jpg -> _MG_3156.jpg: matches: 651 \n",
      "align _MG_3158.jpg -> _MG_3157.jpg: matches: 602 \n",
      "align _MG_3159.jpg -> _MG_3158.jpg: matches: 527 \n",
      "align _MG_3160.jpg -> _MG_3159.jpg: matches: 528 \n",
      "align _MG_3161.jpg -> _MG_3160.jpg: matches: 413 \n",
      "align _MG_3162.jpg -> _MG_3161.jpg: matches: 383 \n",
      "align _MG_3163.jpg -> _MG_3162.jpg: matches: 432 \n",
      "align _MG_3164.jpg -> _MG_3163.jpg: matches: 418 \n",
      "align _MG_3165.jpg -> _MG_3164.jpg: matches: 392 \n",
      "align _MG_3166.jpg -> _MG_3165.jpg: matches: 382 \n",
      "align _MG_3167.jpg -> _MG_3166.jpg: matches: 346 \n",
      "align _MG_3168.jpg -> _MG_3167.jpg: matches: 332 \n",
      "align _MG_3169.jpg -> _MG_3168.jpg: matches: 281 \n",
      "align _MG_3170.jpg -> _MG_3169.jpg: matches: 243 \n",
      "align _MG_3171.jpg -> _MG_3170.jpg: matches: 210 \n",
      "align _MG_3172.jpg -> _MG_3171.jpg: matches: 252 \n",
      "align _MG_3173.jpg -> _MG_3172.jpg: matches: 213 \n",
      "align _MG_3174.jpg -> _MG_3173.jpg: matches: 202 \n",
      "align _MG_3175.jpg -> _MG_3174.jpg: matches: 191 \n",
      "align _MG_3176.jpg -> _MG_3175.jpg: matches: 174 \n",
      "align _MG_3177.jpg -> _MG_3176.jpg: matches: 164 \n",
      "align _MG_3178.jpg -> _MG_3177.jpg: matches: 168 \n",
      "align _MG_3179.jpg -> _MG_3178.jpg: matches: 148 \n",
      "align _MG_3180.jpg -> _MG_3179.jpg: matches: 146 \n",
      "align _MG_3181.jpg -> _MG_3180.jpg: matches: 151 \n",
      "align _MG_3182.jpg -> _MG_3181.jpg: matches: 130 \n",
      "align _MG_3183.jpg -> _MG_3182.jpg: matches: 124 \n",
      "align _MG_3140.jpg -> _MG_3141.jpg: matches: 925 \n",
      "align _MG_3139.jpg -> _MG_3140.jpg: matches: 1088 \n",
      "align _MG_3138.jpg -> _MG_3139.jpg: matches: 1275 \n",
      "align _MG_3137.jpg -> _MG_3138.jpg: matches: 1343 \n",
      "align _MG_3136.jpg -> _MG_3137.jpg: matches: 1355 \n",
      "align _MG_3135.jpg -> _MG_3136.jpg: matches: 1602 \n",
      "align _MG_3134.jpg -> _MG_3135.jpg: matches: 1600 \n",
      "align _MG_3133.jpg -> _MG_3134.jpg: matches: 1545 \n",
      "align _MG_3132.jpg -> _MG_3133.jpg: matches: 1569 \n",
      "align _MG_3131.jpg -> _MG_3132.jpg: matches: 1761 \n",
      "align _MG_3130.jpg -> _MG_3131.jpg: matches: 1795 \n",
      "align _MG_3129.jpg -> _MG_3130.jpg: matches: 1822 \n",
      "align _MG_3128.jpg -> _MG_3129.jpg: matches: 1937 \n",
      "align _MG_3127.jpg -> _MG_3128.jpg: matches: 1955 \n",
      "align _MG_3126.jpg -> _MG_3127.jpg: matches: 1492 \n",
      "align _MG_3125.jpg -> _MG_3126.jpg: matches: 1394 \n",
      "align _MG_3124.jpg -> _MG_3125.jpg: matches: 2089 \n",
      "align _MG_3123.jpg -> _MG_3124.jpg: matches: 2147 \n",
      "align _MG_3122.jpg -> _MG_3123.jpg: matches: 2647 \n",
      "align _MG_3121.jpg -> _MG_3122.jpg: matches: 2565 \n",
      "align _MG_3120.jpg -> _MG_3121.jpg: matches: 2876 \n",
      "align _MG_3119.jpg -> _MG_3120.jpg: matches: 1776 \n",
      "align _MG_3118.jpg -> _MG_3119.jpg: matches: 2003 \n",
      "align _MG_3117.jpg -> _MG_3118.jpg: matches: 2330 \n",
      "align _MG_3116.jpg -> _MG_3117.jpg: matches: 3040 \n",
      "align _MG_3115.jpg -> _MG_3116.jpg: matches: 2512 \n",
      "align _MG_3114.jpg -> _MG_3115.jpg: matches: 2372 \n",
      "align _MG_3113.jpg -> _MG_3114.jpg: matches: 2825 \n",
      "align _MG_3112.jpg -> _MG_3113.jpg: matches: 1251 \n",
      "align _MG_3111.jpg -> _MG_3112.jpg: matches: 1177 \n",
      "align _MG_3110.jpg -> _MG_3111.jpg: matches: 2695 \n",
      "align _MG_3109.jpg -> _MG_3110.jpg: matches: 2472 \n",
      "align _MG_3108.jpg -> _MG_3109.jpg: matches: 2348 \n",
      "align _MG_3107.jpg -> _MG_3108.jpg: matches: 1934 \n",
      "align _MG_3106.jpg -> _MG_3107.jpg: matches: 1900 \n",
      "align _MG_3105.jpg -> _MG_3106.jpg: matches: 1628 \n",
      "align _MG_3104.jpg -> _MG_3105.jpg: matches: 1260 \n",
      "align _MG_3103.jpg -> _MG_3104.jpg: matches: 1042 \n",
      "align _MG_3102.jpg -> _MG_3103.jpg: matches: 901 \n",
      "align _MG_3101.jpg -> _MG_3102.jpg: "
     ]
    }
   ],
   "source": [
    "start = time.time()\n",
    "stk.align_frames(input_path, align_path, detector_method='SIFT', descriptor_method='SIFT', match_method='KNN', flann_idx_kdtree=2, match_threshold=0.75)\n",
    "stk.print_elapsed_time(start)"
   ]
  },
  {
   "cell_type": "code",
   "execution_count": null,
   "id": "c22779a4-6ce7-4134-9d1d-d808dc83cbd5",
   "metadata": {
    "scrolled": true,
    "tags": []
   },
   "outputs": [],
   "source": [
    "start = time.time()\n",
    "stk.lumi_balance(align_path, lumi_path, mask_size=0.8)\n",
    "stk.print_elapsed_time(start)"
   ]
  },
  {
   "cell_type": "code",
   "execution_count": null,
   "id": "43fde978-5d51-4336-9556-0ce6db238fbc",
   "metadata": {
    "tags": []
   },
   "outputs": [],
   "source": [
    "start = time.time()\n",
    "stk.focus_stack_chunks(lumi_path, bactch_dir, n_chunks=10, overlap=2)\n",
    "stk.print_elapsed_time(start)"
   ]
  },
  {
   "cell_type": "code",
   "execution_count": null,
   "id": "afacf52f-4d11-4fe8-aba3-e5c2e80d9309",
   "metadata": {
    "tags": []
   },
   "outputs": [],
   "source": [
    "start = time.time()\n",
    "stk.focus_stack_dir(bactch_dir, stack_dir, postfix='_stack_avg', choice = stk.CHOICE_AVERAGE, energy=stk.ENERGY_LAPLACIAN)\n",
    "stk.print_elapsed_time(start)\n",
    "start = time.time()\n",
    "stk.focus_stack_dir(bactch_dir, stack_dir, postfix='_stack_pyr')\n",
    "stk.print_elapsed_time(start)"
   ]
  },
  {
   "cell_type": "code",
   "execution_count": null,
   "id": "66d0e392-2ea2-4bbf-8688-4e2a96b2d5e2",
   "metadata": {
    "tags": []
   },
   "outputs": [],
   "source": [
    "print(\"total \", end='')\n",
    "stk.print_elapsed_time(t0)"
   ]
  }
 ],
 "metadata": {
  "kernelspec": {
   "display_name": "Python 3 (ipykernel)",
   "language": "python",
   "name": "python3"
  },
  "language_info": {
   "codemirror_mode": {
    "name": "ipython",
    "version": 3
   },
   "file_extension": ".py",
   "mimetype": "text/x-python",
   "name": "python",
   "nbconvert_exporter": "python",
   "pygments_lexer": "ipython3",
   "version": "3.11.5"
  }
 },
 "nbformat": 4,
 "nbformat_minor": 5
}
