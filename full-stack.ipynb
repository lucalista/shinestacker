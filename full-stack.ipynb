{
 "cells": [
  {
   "cell_type": "markdown",
   "id": "14930c54-a1cb-4f43-9249-4aa3db6b60db",
   "metadata": {},
   "source": [
    "# Focus stacking with image batches\n",
    "\n",
    "basedon [Laplacian pyramids method](https://github.com/sjawhar/focus-stacking).\n",
    "\n",
    "Resources:\n",
    "\n",
    "* [another implementation on GitHub](https://github.com/bznick98/Focus_Stacking)\n",
    "* possible align improvement: [align with OpenCV](https://magamig.github.io/posts/accurate-image-alignment-and-registration-using-opencv/)\n",
    "* [Balancing contrast and brightness between stitched images](https://itecnote.com/tecnote/opencv-balancing-contrast-and-brightness-between-stitched-images/)\n",
    "* [Pyramid Methods in Image Processing](https://www.researchgate.net/publication/246727904_Pyramid_Methods_in_Image_Processing)"
   ]
  },
  {
   "cell_type": "code",
   "execution_count": null,
   "id": "c02baf43-07ca-440c-8219-2b91ba256703",
   "metadata": {
    "tags": []
   },
   "outputs": [],
   "source": [
    "import focus_stack as stk\n",
    "import time"
   ]
  },
  {
   "cell_type": "code",
   "execution_count": null,
   "id": "7d2665c2-023e-4ac6-8706-d292b80f23ad",
   "metadata": {
    "tags": []
   },
   "outputs": [],
   "source": [
    "t0 = time.time()\n",
    "base_path = \"E:/Focus stacking/2023-03-10 - Baltic Diptera/E/\"\n",
    "input_path = base_path+\"Immagini modificate\"\n",
    "align_path = base_path+\"aligned\"\n",
    "lumi_path = base_path+\"lumi_balance\"\n",
    "batch_dir = base_path+\"batches\"\n",
    "stack_dir = base_path+\"stacked\"\n",
    "stk.mkdir(align_path)\n",
    "stk.mkdir(lumi_path)\n",
    "stk.mkdir(batch_dir)\n",
    "stk.mkdir(stack_dir)"
   ]
  },
  {
   "cell_type": "code",
   "execution_count": null,
   "id": "62591d59-6684-4288-b683-0c5cfc0a2197",
   "metadata": {
    "scrolled": true,
    "tags": []
   },
   "outputs": [],
   "source": [
    "start = time.time()\n",
    "stk.align_frames(input_path, align_path, detector_method='SIFT', descriptor_method='SIFT', match_method='KNN', flann_idx_kdtree=2, match_threshold=0.75)\n",
    "stk.print_elapsed_time(start)"
   ]
  },
  {
   "cell_type": "code",
   "execution_count": null,
   "id": "4b7b5c9c-f865-4477-ab68-908c0eabd913",
   "metadata": {
    "scrolled": true,
    "tags": []
   },
   "outputs": [],
   "source": [
    "start = time.time()\n",
    "stk.lumi_balance(align_path, lumi_path, mode=stk.BALANCE_LUMI, mask_radius=0.8, i_min=10)\n",
    "stk.print_elapsed_time(start)"
   ]
  },
  {
   "cell_type": "code",
   "execution_count": null,
   "id": "43fde978-5d51-4336-9556-0ce6db238fbc",
   "metadata": {
    "scrolled": true,
    "tags": []
   },
   "outputs": [],
   "source": [
    "start = time.time()\n",
    "stk.focus_stack_chunks(lumi_path, bactch_dir,  exif_dir=input_path, frames=10, overlap=2)\n",
    "stk.print_elapsed_time(start)"
   ]
  },
  {
   "cell_type": "code",
   "execution_count": null,
   "id": "f16e59ca-8221-4396-995a-b2208ba36c2a",
   "metadata": {
    "tags": []
   },
   "outputs": [],
   "source": [
    "start = time.time()\n",
    "stk.focus_stack_dir(batch_dir, stack_dir, exif_dir=input_path, postfix='_stack_avg', choice = stk.CHOICE_AVERAGE, energy=stk.ENERGY_LAPLACIAN)\n",
    "stk.print_elapsed_time(start)"
   ]
  },
  {
   "cell_type": "code",
   "execution_count": null,
   "id": "ae57e81c-73af-4593-85fc-261a6948adfe",
   "metadata": {
    "tags": []
   },
   "outputs": [],
   "source": [
    "start = time.time()\n",
    "stk.focus_stack_dir(batch_dir, stack_dir, exif_dir=input_path, postfix='_stack_pyr', choice=stk.CHOICE_PYRAMID, energy=stk.ENERGY_LAPLACIAN)\n",
    "stk.print_elapsed_time(start)"
   ]
  },
  {
   "cell_type": "code",
   "execution_count": null,
   "id": "66d0e392-2ea2-4bbf-8688-4e2a96b2d5e2",
   "metadata": {
    "tags": []
   },
   "outputs": [],
   "source": [
    "print(\"total \", end='')\n",
    "stk.print_elapsed_time(t0)"
   ]
  },
  {
   "cell_type": "code",
   "execution_count": null,
   "id": "a3beb0d6-684f-499f-bf8a-af1a39a518ff",
   "metadata": {},
   "outputs": [],
   "source": []
  }
 ],
 "metadata": {
  "kernelspec": {
   "display_name": "Python 3 (ipykernel)",
   "language": "python",
   "name": "python3"
  },
  "language_info": {
   "codemirror_mode": {
    "name": "ipython",
    "version": 3
   },
   "file_extension": ".py",
   "mimetype": "text/x-python",
   "name": "python",
   "nbconvert_exporter": "python",
   "pygments_lexer": "ipython3",
   "version": "3.11.5"
  }
 },
 "nbformat": 4,
 "nbformat_minor": 5
}
