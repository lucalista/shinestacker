{
 "cells": [
  {
   "cell_type": "markdown",
   "id": "14930c54-a1cb-4f43-9249-4aa3db6b60db",
   "metadata": {
    "tags": []
   },
   "source": [
    "# Focus stacking with image batches\n",
    "\n",
    "basedon [Laplacian pyramids method](https://github.com/sjawhar/focus-stacking).\n",
    "\n",
    "**Resources:**\n",
    "\n",
    "* [Pyramid Methods in Image Processing](https://www.researchgate.net/publication/246727904_Pyramid_Methods_in_Image_Processing), E. H. Adelson, C. H. Anderson,  J. R. Bergen, P. J. Burt, J. M. Ogden, RCA Engineer, 29-6, Nov/Dec 1984\n",
    "Pyramid methods in image processing\n",
    "* [A Multi-focus Image Fusion Method Based on Laplacian Pyramid](http://www.jcomputers.us/vol6/jcp0612-07.pdf), Wencheng Wang, Faliang Chang, Journal of Computers 6 (12), 2559, December 2011\n",
    "* [Original core implementation on GitHub](https://github.com/bznick98/Focus_Stacking) by Zongnan Bao\n",
    "* [Align with OpenCV](https://magamig.github.io/posts/accurate-image-alignment-and-registration-using-opencv/)\n",
    "* [Balancing contrast and brightness between stitched images](https://itecnote.com/tecnote/opencv-balancing-contrast-and-brightness-between-stitched-images/)\n"
   ]
  },
  {
   "cell_type": "code",
   "execution_count": 1,
   "id": "09d09307-b950-481f-b8ef-821b6f38d28f",
   "metadata": {
    "tags": []
   },
   "outputs": [],
   "source": [
    "import focus_stack as stk\n",
    "import time"
   ]
  },
  {
   "cell_type": "code",
   "execution_count": 4,
   "id": "2ec58de2-db8c-4298-a702-034c95bfcc8e",
   "metadata": {
    "tags": []
   },
   "outputs": [],
   "source": [
    "base_path = \"E:/Focus stacking/2024-03-17 - Baltic Diptera/A/\"\n",
    "\n",
    "t0 = time.time()\n",
    "input_path = base_path+\"Immagini modificate\"\n",
    "align_path = base_path+\"aligned\"\n",
    "lumi_path = base_path+\"lumi_balance\"\n",
    "batch_dir = base_path+\"batches\"\n",
    "stack_dir = base_path+\"stacked\"\n",
    "stk.mkdir(align_path)\n",
    "stk.mkdir(lumi_path)\n",
    "stk.mkdir(batch_dir)\n",
    "stk.mkdir(stack_dir)"
   ]
  },
  {
   "cell_type": "code",
   "execution_count": 3,
   "id": "c3f05d6c-3060-457d-a279-a250df5fac75",
   "metadata": {
    "tags": []
   },
   "outputs": [
    {
     "name": "stdout",
     "output_type": "stream",
     "text": [
      "Folder: 'E:/Focus stacking/2024-03-17 - Baltic Diptera/A/Immagini modificate'\n",
      "- 76 files: _MG_6301.jpg, _MG_6302.jpg, _MG_6303.jpg, _MG_6304.jpg, _MG_6305.jpg, _MG_6306.jpg, _MG_6307.jpg, _MG_6308.jpg, _MG_6309.jpg, _MG_6310.jpg, _MG_6311.jpg, _MG_6312.jpg, _MG_6313.jpg, _MG_6314.jpg, _MG_6315.jpg, _MG_6316.jpg, _MG_6317.jpg, _MG_6318.jpg, _MG_6319.jpg, _MG_6320.jpg, _MG_6321.jpg, _MG_6322.jpg, _MG_6323.jpg, _MG_6324.jpg, _MG_6325.jpg, _MG_6326.jpg, _MG_6327.jpg, _MG_6328.jpg, _MG_6331.jpg, _MG_6332.jpg, _MG_6333.jpg, _MG_6334.jpg, _MG_6335.jpg, _MG_6336.jpg, _MG_6337.jpg, _MG_6338.jpg, _MG_6339.jpg, _MG_6340.jpg, _MG_6341.jpg, _MG_6342.jpg, _MG_6343.jpg, _MG_6344.jpg, _MG_6345.jpg, _MG_6346.jpg, _MG_6347.jpg, _MG_6350.jpg, _MG_6351.jpg, _MG_6352.jpg, _MG_6353.jpg, _MG_6354.jpg, _MG_6355.jpg, _MG_6356.jpg, _MG_6357.jpg, _MG_6358.jpg, _MG_6359.jpg, _MG_6360.jpg, _MG_6361.jpg, _MG_6362.jpg, _MG_6363.jpg, _MG_6364.jpg, _MG_6365.jpg, _MG_6366.jpg, _MG_6367.jpg, _MG_6368.jpg, _MG_6369.jpg, _MG_6370.jpg, _MG_6371.jpg, _MG_6372.jpg, _MG_6373.jpg, _MG_6374.jpg, _MG_6375.jpg, _MG_6376.jpg, _MG_6377.jpg, _MG_6378.jpg, _MG_6379.jpg, _MG_6380.jpg\n",
      "align _MG_6341.jpg -> _MG_6341.jpg: saving file duplicate\n",
      "align _MG_6342.jpg -> _MG_6341.jpg: matches: 32 \n",
      "align _MG_6343.jpg -> _MG_6342.jpg: matches: 34 \n",
      "align _MG_6344.jpg -> _MG_6343.jpg: matches: 36 \n",
      "align _MG_6345.jpg -> _MG_6344.jpg: matches: 33 \n",
      "align _MG_6346.jpg -> _MG_6345.jpg: matches: 30 \n",
      "align _MG_6347.jpg -> _MG_6346.jpg: matches: 32 \n",
      "align _MG_6350.jpg -> _MG_6347.jpg: matches: 29 \n",
      "align _MG_6351.jpg -> _MG_6350.jpg: matches: 27 \n",
      "align _MG_6352.jpg -> _MG_6351.jpg: matches: 28 \n",
      "align _MG_6353.jpg -> _MG_6352.jpg: matches: 34 \n",
      "align _MG_6354.jpg -> _MG_6353.jpg: matches: 34 \n",
      "align _MG_6355.jpg -> _MG_6354.jpg: matches: 31 \n",
      "align _MG_6356.jpg -> _MG_6355.jpg: matches: 33 \n",
      "align _MG_6357.jpg -> _MG_6356.jpg: matches: 27 \n",
      "align _MG_6358.jpg -> _MG_6357.jpg: matches: 29 \n",
      "align _MG_6359.jpg -> _MG_6358.jpg: matches: 21 \n",
      "align _MG_6360.jpg -> _MG_6359.jpg: matches: 21 \n",
      "align _MG_6361.jpg -> _MG_6360.jpg: matches: 24 \n",
      "align _MG_6362.jpg -> _MG_6361.jpg: matches: 22 \n",
      "align _MG_6363.jpg -> _MG_6362.jpg: matches: 25 \n",
      "align _MG_6364.jpg -> _MG_6363.jpg: matches: 27 \n",
      "align _MG_6365.jpg -> _MG_6364.jpg: matches: 29 \n",
      "align _MG_6366.jpg -> _MG_6365.jpg: matches: 25 \n",
      "align _MG_6367.jpg -> _MG_6366.jpg: matches: 22 \n",
      "align _MG_6368.jpg -> _MG_6367.jpg: matches: 23 \n",
      "align _MG_6369.jpg -> _MG_6368.jpg: matches: 25 \n",
      "align _MG_6370.jpg -> _MG_6369.jpg: matches: 19 \n",
      "align _MG_6371.jpg -> _MG_6370.jpg: matches: 18 \n",
      "align _MG_6372.jpg -> _MG_6371.jpg: matches: 13 \n",
      "align _MG_6373.jpg -> _MG_6372.jpg: matches: 12 \n",
      "align _MG_6374.jpg -> _MG_6373.jpg: matches: 10 \n",
      "align _MG_6375.jpg -> _MG_6374.jpg: matches: 4 \n",
      "align _MG_6376.jpg -> _MG_6375.jpg: matches: 5 \n",
      "align _MG_6377.jpg -> _MG_6376.jpg: matches: 8 \n",
      "align _MG_6378.jpg -> _MG_6377.jpg: matches: 9 \n",
      "align _MG_6379.jpg -> _MG_6378.jpg: matches: 7 \n",
      "align _MG_6380.jpg -> _MG_6379.jpg: matches: 4 \n",
      "align _MG_6340.jpg -> _MG_6341.jpg: matches: 33 \n",
      "align _MG_6339.jpg -> _MG_6340.jpg: matches: 33 \n",
      "align _MG_6338.jpg -> _MG_6339.jpg: matches: 36 \n",
      "align _MG_6337.jpg -> _MG_6338.jpg: matches: 25 \n",
      "align _MG_6336.jpg -> _MG_6337.jpg: matches: 30 \n",
      "align _MG_6335.jpg -> _MG_6336.jpg: matches: 31 \n",
      "align _MG_6334.jpg -> _MG_6335.jpg: matches: 29 \n",
      "align _MG_6333.jpg -> _MG_6334.jpg: matches: 33 \n",
      "align _MG_6332.jpg -> _MG_6333.jpg: matches: 33 \n",
      "align _MG_6331.jpg -> _MG_6332.jpg: matches: 34 \n",
      "align _MG_6328.jpg -> _MG_6331.jpg: matches: 39 \n",
      "align _MG_6327.jpg -> _MG_6328.jpg: matches: 54 \n",
      "align _MG_6326.jpg -> _MG_6327.jpg: matches: 45 \n",
      "align _MG_6325.jpg -> _MG_6326.jpg: matches: 48 \n",
      "align _MG_6324.jpg -> _MG_6325.jpg: matches: 49 \n",
      "align _MG_6323.jpg -> _MG_6324.jpg: matches: 53 \n",
      "align _MG_6322.jpg -> _MG_6323.jpg: matches: 59 \n",
      "align _MG_6321.jpg -> _MG_6322.jpg: matches: 63 \n",
      "align _MG_6320.jpg -> _MG_6321.jpg: matches: 63 \n",
      "align _MG_6319.jpg -> _MG_6320.jpg: matches: 74 \n",
      "align _MG_6318.jpg -> _MG_6319.jpg: matches: 90 \n",
      "align _MG_6317.jpg -> _MG_6318.jpg: matches: 99 \n",
      "align _MG_6316.jpg -> _MG_6317.jpg: matches: 96 \n",
      "align _MG_6315.jpg -> _MG_6316.jpg: matches: 112 \n",
      "align _MG_6314.jpg -> _MG_6315.jpg: matches: 104 \n",
      "align _MG_6313.jpg -> _MG_6314.jpg: matches: 91 \n",
      "align _MG_6312.jpg -> _MG_6313.jpg: matches: 99 \n",
      "align _MG_6311.jpg -> _MG_6312.jpg: matches: 107 \n",
      "align _MG_6310.jpg -> _MG_6311.jpg: matches: 114 \n",
      "align _MG_6309.jpg -> _MG_6310.jpg: matches: 125 \n",
      "align _MG_6308.jpg -> _MG_6309.jpg: matches: 113 \n",
      "align _MG_6307.jpg -> _MG_6308.jpg: matches: 122 \n",
      "align _MG_6306.jpg -> _MG_6307.jpg: matches: 124 \n",
      "align _MG_6305.jpg -> _MG_6306.jpg: matches: 111 \n",
      "align _MG_6304.jpg -> _MG_6305.jpg: matches: 115 \n",
      "align _MG_6303.jpg -> _MG_6304.jpg: matches: 116 \n",
      "align _MG_6302.jpg -> _MG_6303.jpg: matches: 114 \n",
      "align _MG_6301.jpg -> _MG_6302.jpg: matches: 117 \n",
      "elapsed time: 2:21.35s\n"
     ]
    }
   ],
   "source": [
    "start = time.time()\n",
    "stk.align_frames(input_path, align_path, detector_method='SIFT', descriptor_method='SIFT', match_method='KNN', flann_idx_kdtree=2, match_threshold=0.75, method=stk.ALIGN_RIGID)\n",
    "stk.print_elapsed_time(start)"
   ]
  },
  {
   "cell_type": "code",
   "execution_count": 5,
   "id": "bf8cd93d-338b-44bb-b6ba-82e1907c50e8",
   "metadata": {
    "tags": []
   },
   "outputs": [
    {
     "name": "stdout",
     "output_type": "stream",
     "text": [
      "Folder: 'E:/Focus stacking/2024-03-17 - Baltic Diptera/A/aligned'\n",
      "- 77 files: _MG_6301.jpg, _MG_6302.jpg, _MG_6303.jpg, _MG_6304.jpg, _MG_6305.jpg, _MG_6306.jpg, _MG_6307.jpg, _MG_6308.jpg, _MG_6309.jpg, _MG_6310.jpg, _MG_6311.jpg, _MG_6312.jpg, _MG_6313.jpg, _MG_6314.jpg, _MG_6315.jpg, _MG_6316.jpg, _MG_6317.jpg, _MG_6318.jpg, _MG_6319.jpg, _MG_6320.jpg, _MG_6321.jpg, _MG_6322.jpg, _MG_6323.jpg, _MG_6324.jpg, _MG_6325.jpg, _MG_6326.jpg, _MG_6327.jpg, _MG_6328.jpg, _MG_6331.jpg, _MG_6332.jpg, _MG_6333.jpg, _MG_6334.jpg, _MG_6335.jpg, _MG_6336.jpg, _MG_6337.jpg, _MG_6338.jpg, _MG_6339.jpg, _MG_6340.jpg, _MG_6341.jpg, _MG_6342.jpg, _MG_6343.jpg, _MG_6344.jpg, _MG_6345.jpg, _MG_6346.jpg, _MG_6347.jpg, _MG_6349.jpg, _MG_6350.jpg, _MG_6351.jpg, _MG_6352.jpg, _MG_6353.jpg, _MG_6354.jpg, _MG_6355.jpg, _MG_6356.jpg, _MG_6357.jpg, _MG_6358.jpg, _MG_6359.jpg, _MG_6360.jpg, _MG_6361.jpg, _MG_6362.jpg, _MG_6363.jpg, _MG_6364.jpg, _MG_6365.jpg, _MG_6366.jpg, _MG_6367.jpg, _MG_6368.jpg, _MG_6369.jpg, _MG_6370.jpg, _MG_6371.jpg, _MG_6372.jpg, _MG_6373.jpg, _MG_6374.jpg, _MG_6375.jpg, _MG_6376.jpg, _MG_6377.jpg, _MG_6378.jpg, _MG_6379.jpg, _MG_6380.jpg\n",
      "balance _MG_6301.jpg -> _MG_6341.jpg: 121.6246->121.5537 (-0.06%), gamma = 1.1504 \n",
      "balance _MG_6302.jpg -> _MG_6341.jpg: 121.6246->121.5380 (-0.07%), gamma = 1.1549 \n",
      "balance _MG_6303.jpg -> _MG_6341.jpg: 121.6246->121.5306 (-0.08%), gamma = 1.1530 \n",
      "balance _MG_6304.jpg -> _MG_6341.jpg: 121.6246->121.5279 (-0.08%), gamma = 1.1545 \n",
      "balance _MG_6305.jpg -> _MG_6341.jpg: 121.6246->121.5216 (-0.08%), gamma = 1.1515 \n",
      "balance _MG_6306.jpg -> _MG_6341.jpg: 121.6246->121.5269 (-0.08%), gamma = 1.1528 \n",
      "balance _MG_6307.jpg -> _MG_6341.jpg: 121.6246->121.5366 (-0.07%), gamma = 1.1491 \n",
      "balance _MG_6308.jpg -> _MG_6341.jpg: 121.6246->121.5346 (-0.07%), gamma = 1.1536 \n",
      "balance _MG_6309.jpg -> _MG_6341.jpg: 121.6246->121.5430 (-0.07%), gamma = 1.1489 \n",
      "balance _MG_6310.jpg -> _MG_6341.jpg: 121.6246->121.5397 (-0.07%), gamma = 1.1493 \n",
      "balance _MG_6311.jpg -> _MG_6341.jpg: 121.6246->121.5577 (-0.06%), gamma = 1.1494 \n",
      "balance _MG_6312.jpg -> _MG_6341.jpg: 121.6246->121.5827 (-0.03%), gamma = 1.0646 \n",
      "balance _MG_6313.jpg -> _MG_6341.jpg: 121.6246->121.5941 (-0.03%), gamma = 1.0677 \n",
      "balance _MG_6314.jpg -> _MG_6341.jpg: 121.6246->121.5538 (-0.06%), gamma = 1.0737 \n",
      "balance _MG_6315.jpg -> _MG_6341.jpg: 121.6246->121.5841 (-0.03%), gamma = 1.0692 \n",
      "balance _MG_6316.jpg -> _MG_6341.jpg: 121.6246->121.5715 (-0.04%), gamma = 1.0612 \n",
      "balance _MG_6317.jpg -> _MG_6341.jpg: 121.6246->121.5852 (-0.03%), gamma = 1.0565 \n",
      "balance _MG_6318.jpg -> _MG_6341.jpg: 121.6246->121.5471 (-0.06%), gamma = 1.0622 \n",
      "balance _MG_6319.jpg -> _MG_6341.jpg: 121.6246->121.5897 (-0.03%), gamma = 1.0561 \n",
      "balance _MG_6320.jpg -> _MG_6341.jpg: 121.6246->121.5855 (-0.03%), gamma = 1.0548 \n",
      "balance _MG_6321.jpg -> _MG_6341.jpg: 121.6246->121.5850 (-0.03%), gamma = 1.0483 \n",
      "balance _MG_6322.jpg -> _MG_6341.jpg: 121.6246->121.5919 (-0.03%), gamma = 1.0528 \n",
      "balance _MG_6323.jpg -> _MG_6341.jpg: 121.6246->121.5818 (-0.04%), gamma = 1.0568 \n",
      "balance _MG_6324.jpg -> _MG_6341.jpg: 121.6246->121.6012 (-0.02%), gamma = 1.0473 \n",
      "balance _MG_6325.jpg -> _MG_6341.jpg: 121.6246->121.5840 (-0.03%), gamma = 1.0469 \n",
      "balance _MG_6326.jpg -> _MG_6341.jpg: 121.6246->121.5716 (-0.04%), gamma = 1.0548 \n",
      "balance _MG_6327.jpg -> _MG_6341.jpg: 121.6246->121.5997 (-0.02%), gamma = 1.0442 \n",
      "balance _MG_6328.jpg -> _MG_6341.jpg: 121.6246->121.5855 (-0.03%), gamma = 1.0462 \n",
      "balance _MG_6331.jpg -> _MG_6341.jpg: 121.6246->121.5973 (-0.02%), gamma = 1.0548 \n",
      "balance _MG_6332.jpg -> _MG_6341.jpg: 121.6246->121.5671 (-0.05%), gamma = 1.0490 \n",
      "balance _MG_6333.jpg -> _MG_6341.jpg: 121.6246->121.5906 (-0.03%), gamma = 1.0462 \n",
      "balance _MG_6334.jpg -> _MG_6341.jpg: 121.6246->121.5979 (-0.02%), gamma = 1.0353 \n",
      "balance _MG_6335.jpg -> _MG_6341.jpg: 121.6246->121.5767 (-0.04%), gamma = 1.0381 \n",
      "balance _MG_6336.jpg -> _MG_6341.jpg: 121.6246->121.6150 (-0.01%), gamma = 1.0549 \n",
      "balance _MG_6337.jpg -> _MG_6341.jpg: 121.6246->121.6215 (-0.00%), gamma = 1.0437 \n",
      "balance _MG_6338.jpg -> _MG_6341.jpg: 121.6246->121.6079 (-0.01%), gamma = 1.0456 \n",
      "balance _MG_6339.jpg -> _MG_6341.jpg: 121.6246->121.6198 (-0.00%), gamma = 1.0437 \n",
      "balance _MG_6340.jpg -> _MG_6341.jpg: 121.6246->121.6023 (-0.02%), gamma = 1.0477 \n",
      "balance _MG_6341.jpg -> _MG_6341.jpg: saving file duplicate\n",
      "balance _MG_6342.jpg -> _MG_6341.jpg: 121.6246->121.6285 (+0.00%), gamma = 1.0108 \n",
      "balance _MG_6343.jpg -> _MG_6341.jpg: 121.6246->120.8425 (-0.65%), gamma = 1.0000 \n",
      "balance _MG_6344.jpg -> _MG_6341.jpg: 121.6246->121.6168 (-0.01%), gamma = 1.0109 \n",
      "balance _MG_6345.jpg -> _MG_6341.jpg: 121.6246->121.6154 (-0.01%), gamma = 1.0111 \n",
      "balance _MG_6346.jpg -> _MG_6341.jpg: 121.6246->121.6406 (+0.01%), gamma = 1.0108 \n",
      "balance _MG_6347.jpg -> _MG_6341.jpg: 121.6246->121.6083 (-0.01%), gamma = 1.0111 \n",
      "balance _MG_6349.jpg -> _MG_6341.jpg: 121.6246->121.6234 (-0.00%), gamma = 1.0107 \n",
      "balance _MG_6350.jpg -> _MG_6341.jpg: 121.6246->121.1941 (-0.36%), gamma = 1.0000 \n",
      "balance _MG_6351.jpg -> _MG_6341.jpg: 121.6246->121.6507 (+0.02%), gamma = 0.9789 \n",
      "balance _MG_6352.jpg -> _MG_6341.jpg: 121.6246->121.6210 (-0.00%), gamma = 0.9888 \n",
      "balance _MG_6353.jpg -> _MG_6341.jpg: 121.6246->121.6407 (+0.01%), gamma = 0.9869 \n",
      "balance _MG_6354.jpg -> _MG_6341.jpg: 121.6246->121.6109 (-0.01%), gamma = 0.9783 \n",
      "balance _MG_6355.jpg -> _MG_6341.jpg: 121.6246->121.6332 (+0.01%), gamma = 0.9819 \n",
      "balance _MG_6356.jpg -> _MG_6341.jpg: 121.6246->121.6162 (-0.01%), gamma = 0.9884 \n",
      "balance _MG_6357.jpg -> _MG_6341.jpg: 121.6246->121.6677 (+0.04%), gamma = 0.9878 \n",
      "balance _MG_6358.jpg -> _MG_6341.jpg: 121.6246->121.6038 (-0.02%), gamma = 0.9781 \n",
      "balance _MG_6359.jpg -> _MG_6341.jpg: 121.6246->121.6207 (-0.00%), gamma = 0.9883 \n",
      "balance _MG_6360.jpg -> _MG_6341.jpg: 121.6246->121.6531 (+0.02%), gamma = 0.9875 \n",
      "balance _MG_6361.jpg -> _MG_6341.jpg: 121.6246->121.6567 (+0.03%), gamma = 0.9875 \n",
      "balance _MG_6362.jpg -> _MG_6341.jpg: 121.6246->121.6086 (-0.01%), gamma = 0.9782 \n",
      "balance _MG_6363.jpg -> _MG_6341.jpg: 121.6246->121.6598 (+0.03%), gamma = 0.9685 \n",
      "balance _MG_6364.jpg -> _MG_6341.jpg: 121.6246->121.6454 (+0.02%), gamma = 0.9762 \n",
      "balance _MG_6365.jpg -> _MG_6341.jpg: 121.6246->121.6300 (+0.00%), gamma = 0.9766 \n",
      "balance _MG_6366.jpg -> _MG_6341.jpg: 121.6246->121.6487 (+0.02%), gamma = 0.9685 \n",
      "balance _MG_6367.jpg -> _MG_6341.jpg: 121.6246->121.6192 (-0.00%), gamma = 0.9786 \n",
      "balance _MG_6368.jpg -> _MG_6341.jpg: 121.6246->121.6266 (+0.00%), gamma = 0.9766 \n",
      "balance _MG_6369.jpg -> _MG_6341.jpg: 121.6246->121.6318 (+0.01%), gamma = 0.9765 \n",
      "balance _MG_6370.jpg -> _MG_6341.jpg: 121.6246->121.6711 (+0.04%), gamma = 0.9753 \n",
      "balance _MG_6371.jpg -> _MG_6341.jpg: 121.6246->121.7036 (+0.06%), gamma = 0.9175 \n",
      "balance _MG_6372.jpg -> _MG_6341.jpg: 121.6246->121.6364 (+0.01%), gamma = 0.9256 \n",
      "balance _MG_6373.jpg -> _MG_6341.jpg: 121.6246->121.6516 (+0.02%), gamma = 0.9227 \n",
      "balance _MG_6374.jpg -> _MG_6341.jpg: 121.6246->121.7106 (+0.07%), gamma = 0.9174 \n",
      "balance _MG_6375.jpg -> _MG_6341.jpg: 121.6246->121.7277 (+0.08%), gamma = 0.9186 \n",
      "balance _MG_6376.jpg -> _MG_6341.jpg: 121.6246->121.6594 (+0.03%), gamma = 0.9269 \n",
      "balance _MG_6377.jpg -> _MG_6341.jpg: 121.6246->121.6336 (+0.01%), gamma = 0.9254 \n",
      "balance _MG_6378.jpg -> _MG_6341.jpg: 121.6246->121.6918 (+0.06%), gamma = 0.9161 \n",
      "balance _MG_6379.jpg -> _MG_6341.jpg: 121.6246->121.6610 (+0.03%), gamma = 0.9314 \n",
      "balance _MG_6380.jpg -> _MG_6341.jpg: 121.6246->121.7122 (+0.07%), gamma = 0.9281 \n",
      "elapsed time: 0:29.19s\n"
     ]
    }
   ],
   "source": [
    "start = time.time()\n",
    "stk.lumi_balance(align_path, lumi_path, mode=stk.BALANCE_LUMI, mask_radius=0.8, i_min=10)\n",
    "stk.print_elapsed_time(start)"
   ]
  },
  {
   "cell_type": "code",
   "execution_count": null,
   "id": "84515511-1b74-4e18-b3ca-2c8517f25da8",
   "metadata": {
    "tags": []
   },
   "outputs": [
    {
     "name": "stdout",
     "output_type": "stream",
     "text": [
      "Folder: 'E:/Focus stacking/2024-03-17 - Baltic Diptera/A/lumi_balance'\n",
      "- 77 files: _MG_6301.jpg, _MG_6302.jpg, _MG_6303.jpg, _MG_6304.jpg, _MG_6305.jpg, _MG_6306.jpg, _MG_6307.jpg, _MG_6308.jpg, _MG_6309.jpg, _MG_6310.jpg, _MG_6311.jpg, _MG_6312.jpg, _MG_6313.jpg, _MG_6314.jpg, _MG_6315.jpg, _MG_6316.jpg, _MG_6317.jpg, _MG_6318.jpg, _MG_6319.jpg, _MG_6320.jpg, _MG_6321.jpg, _MG_6322.jpg, _MG_6323.jpg, _MG_6324.jpg, _MG_6325.jpg, _MG_6326.jpg, _MG_6327.jpg, _MG_6328.jpg, _MG_6331.jpg, _MG_6332.jpg, _MG_6333.jpg, _MG_6334.jpg, _MG_6335.jpg, _MG_6336.jpg, _MG_6337.jpg, _MG_6338.jpg, _MG_6339.jpg, _MG_6340.jpg, _MG_6341.jpg, _MG_6342.jpg, _MG_6343.jpg, _MG_6344.jpg, _MG_6345.jpg, _MG_6346.jpg, _MG_6347.jpg, _MG_6349.jpg, _MG_6350.jpg, _MG_6351.jpg, _MG_6352.jpg, _MG_6353.jpg, _MG_6354.jpg, _MG_6355.jpg, _MG_6356.jpg, _MG_6357.jpg, _MG_6358.jpg, _MG_6359.jpg, _MG_6360.jpg, _MG_6361.jpg, _MG_6362.jpg, _MG_6363.jpg, _MG_6364.jpg, _MG_6365.jpg, _MG_6366.jpg, _MG_6367.jpg, _MG_6368.jpg, _MG_6369.jpg, _MG_6370.jpg, _MG_6371.jpg, _MG_6372.jpg, _MG_6373.jpg, _MG_6374.jpg, _MG_6375.jpg, _MG_6376.jpg, _MG_6377.jpg, _MG_6378.jpg, _MG_6379.jpg, _MG_6380.jpg\n",
      "focus stack merge E:/Focus stacking/2024-03-17 - Baltic Diptera/A/lumi_balance, 10 files: _MG_6301.jpg, _MG_6302.jpg, _MG_6303.jpg, _MG_6304.jpg, _MG_6305.jpg, _MG_6306.jpg, _MG_6307.jpg, _MG_6308.jpg, _MG_6309.jpg, _MG_6310.jpg\n",
      "- gaussian pyramids, level: 6 5 4 3 2 1 gaussian pyramids completed\n",
      "- laplacian pyramids, level: 6 5 4 3 2 1 laplacian pyramids completed\n",
      "- fuse pyramids, layer: 6 5 4 3 2 1 fuse pyramids completed \n",
      "stack done\n",
      "- save exif data\n",
      "focus stack merge E:/Focus stacking/2024-03-17 - Baltic Diptera/A/lumi_balance, 10 files: _MG_6309.jpg, _MG_6310.jpg, _MG_6311.jpg, _MG_6312.jpg, _MG_6313.jpg, _MG_6314.jpg, _MG_6315.jpg, _MG_6316.jpg, _MG_6317.jpg, _MG_6318.jpg\n",
      "- gaussian pyramids, level: 6 5 4 3 2 1 gaussian pyramids completed\n",
      "- laplacian pyramids, level: 6 5 4 3 2 1 laplacian pyramids completed\n",
      "- fuse pyramids, layer: 6 5 4 3 2 1 fuse pyramids completed \n",
      "stack done\n",
      "- save exif data\n",
      "focus stack merge E:/Focus stacking/2024-03-17 - Baltic Diptera/A/lumi_balance, 10 files: _MG_6317.jpg, _MG_6318.jpg, _MG_6319.jpg, _MG_6320.jpg, _MG_6321.jpg, _MG_6322.jpg, _MG_6323.jpg, _MG_6324.jpg, _MG_6325.jpg, _MG_6326.jpg\n",
      "- gaussian pyramids, level: 6 5 4 3 2 1 gaussian pyramids completed\n",
      "- laplacian pyramids, level: 6 5 4 3 2 1 laplacian pyramids completed\n",
      "- fuse pyramids, layer: 6 5 4 3 2 1 fuse pyramids completed \n",
      "stack done\n",
      "- save exif data\n",
      "focus stack merge E:/Focus stacking/2024-03-17 - Baltic Diptera/A/lumi_balance, 10 files: _MG_6325.jpg, _MG_6326.jpg, _MG_6327.jpg, _MG_6328.jpg, _MG_6331.jpg, _MG_6332.jpg, _MG_6333.jpg, _MG_6334.jpg, _MG_6335.jpg, _MG_6336.jpg\n",
      "- gaussian pyramids, level: 6 5 4 3 2 1 gaussian pyramids completed\n",
      "- laplacian pyramids, level: 6 5 4 3 2 1 laplacian pyramids completed\n",
      "- fuse pyramids, layer: 6 5 4 3 2 1 fuse pyramids completed \n",
      "stack done\n",
      "- save exif data\n",
      "focus stack merge E:/Focus stacking/2024-03-17 - Baltic Diptera/A/lumi_balance, 10 files: _MG_6335.jpg, _MG_6336.jpg, _MG_6337.jpg, _MG_6338.jpg, _MG_6339.jpg, _MG_6340.jpg, _MG_6341.jpg, _MG_6342.jpg, _MG_6343.jpg, _MG_6344.jpg\n",
      "- gaussian pyramids, level: 6 5 4 3 2 1 gaussian pyramids completed\n",
      "- laplacian pyramids, level: 6 5 4 3 2 1 laplacian pyramids completed\n",
      "- fuse pyramids, layer: 6 5 4 3 2 1 fuse pyramids completed \n",
      "stack done\n",
      "- save exif data\n",
      "focus stack merge E:/Focus stacking/2024-03-17 - Baltic Diptera/A/lumi_balance, 10 files: _MG_6343.jpg, _MG_6344.jpg, _MG_6345.jpg, _MG_6346.jpg, _MG_6347.jpg, _MG_6349.jpg, _MG_6350.jpg, _MG_6351.jpg, _MG_6352.jpg, _MG_6353.jpg\n",
      "- gaussian pyramids, level: 6 5 4 3 2 1 gaussian pyramids completed\n",
      "- laplacian pyramids, level: 6 5 4 3 2 1 laplacian pyramids completed\n",
      "- fuse pyramids, layer: 6 5 4 3 2 1 fuse pyramids completed \n",
      "stack done\n",
      "- save exif data\n",
      "focus stack merge E:/Focus stacking/2024-03-17 - Baltic Diptera/A/lumi_balance, 10 files: _MG_6352.jpg, _MG_6353.jpg, _MG_6354.jpg, _MG_6355.jpg, _MG_6356.jpg, _MG_6357.jpg, _MG_6358.jpg, _MG_6359.jpg, _MG_6360.jpg, _MG_6361.jpg\n",
      "- gaussian pyramids, level: 6 5 4 3 2 1 gaussian pyramids completed\n",
      "- laplacian pyramids, level: 6 5 4 3 2 1 laplacian pyramids completed\n",
      "- fuse pyramids, layer: 6 5 4 3 2 1 fuse pyramids completed \n",
      "stack done\n",
      "- save exif data\n",
      "focus stack merge E:/Focus stacking/2024-03-17 - Baltic Diptera/A/lumi_balance, 10 files: _MG_6360.jpg, _MG_6361.jpg, _MG_6362.jpg, _MG_6363.jpg, _MG_6364.jpg, _MG_6365.jpg, _MG_6366.jpg, _MG_6367.jpg, _MG_6368.jpg, _MG_6369.jpg\n",
      "- gaussian pyramids, level: 6 5 4 3 2 1 gaussian pyramids completed\n",
      "- laplacian pyramids, level: 6 5 4 3 2 1 laplacian pyramids completed\n",
      "- fuse pyramids, layer: 6 5 4 3 2 1 fuse pyramids completed \n",
      "stack done\n",
      "- save exif data\n",
      "focus stack merge E:/Focus stacking/2024-03-17 - Baltic Diptera/A/lumi_balance, 10 files: _MG_6368.jpg, _MG_6369.jpg, _MG_6370.jpg, _MG_6371.jpg, _MG_6372.jpg, _MG_6373.jpg, _MG_6374.jpg, _MG_6375.jpg, _MG_6376.jpg, _MG_6377.jpg\n",
      "- gaussian pyramids, level: 6 5 4 3 2 1 gaussian pyramids completed\n",
      "- laplacian pyramids, level: 6 5 4 3 2 1 laplacian pyramids completed\n",
      "- fuse pyramids, layer: 6 5 4 3 2 1 fuse pyramids completed \n",
      "stack done\n",
      "- save exif data\n",
      "focus stack merge E:/Focus stacking/2024-03-17 - Baltic Diptera/A/lumi_balance, 5 files: _MG_6376.jpg, _MG_6377.jpg, _MG_6378.jpg, _MG_6379.jpg, _MG_6380.jpg\n",
      "- gaussian pyramids, level: 6 5 4 3 2 1 gaussian pyramids completed\n",
      "- laplacian pyramids, level: 6 5 4 3 2 1 laplacian pyramids completed\n",
      "- fuse pyramids, layer: 6 5 4 3 2 1 fuse pyramids completed \n",
      "stack done\n",
      "- save exif data\n",
      "elapsed time: 3:53.48s\n",
      "Folder: 'E:/Focus stacking/2024-03-17 - Baltic Diptera/A/batches'\n",
      "- 10 files: _MG_6301.jpg, _MG_6309.jpg, _MG_6317.jpg, _MG_6325.jpg, _MG_6335.jpg, _MG_6343.jpg, _MG_6352.jpg, _MG_6360.jpg, _MG_6368.jpg, _MG_6376.jpg\n",
      "focus stack merge E:/Focus stacking/2024-03-17 - Baltic Diptera/A/batches, 10 files: _MG_6301.jpg, _MG_6309.jpg, _MG_6317.jpg, _MG_6325.jpg, _MG_6335.jpg, _MG_6343.jpg, _MG_6352.jpg, _MG_6360.jpg, _MG_6368.jpg, _MG_6376.jpg\n",
      "- gaussian pyramids, level: 6 5 4 3 2 1 gaussian pyramids completed\n",
      "- laplacian pyramids, level: 6 5 4 3 2 1 laplacian pyramids completed\n",
      "- fuse pyramids, layer: 6 5 4 3 2 1"
     ]
    }
   ],
   "source": [
    "start = time.time()\n",
    "stk.focus_stack_chunks(lumi_path, batch_dir,  exif_dir=input_path, frames=10, overlap=2, denoise=0.8)\n",
    "stk.print_elapsed_time(start)\n",
    "\n",
    "#start = time.time()\n",
    "#stk.focus_stack_dir(batch_dir, stack_dir, exif_dir=input_path, postfix='_stack_avg', denoise=0.8, choice = stk.CHOICE_AVERAGE, energy=stk.ENERGY_LAPLACIAN)\n",
    "#stk.print_elapsed_time(start)\n",
    "\n",
    "start = time.time()\n",
    "stk.focus_stack_dir(batch_dir, stack_dir, exif_dir=input_path, postfix='_stack_pyr', denoise=0.8, choice=stk.CHOICE_PYRAMID, energy=stk.ENERGY_LAPLACIAN)\n",
    "stk.print_elapsed_time(start)\n",
    "\n",
    "print(\"total \", end='')\n",
    "stk.print_elapsed_time(t0)"
   ]
  },
  {
   "cell_type": "code",
   "execution_count": null,
   "id": "ee7af87c-49d6-4c17-9d7d-bbf399db6322",
   "metadata": {},
   "outputs": [],
   "source": [
    "#for p in ['A', 'B']:\n",
    "#    full_stack(\"E:/Focus stacking/2024-03-04 - Spider/\"+p+\"/\", 10)"
   ]
  },
  {
   "cell_type": "code",
   "execution_count": null,
   "id": "52ab9ed1-1744-4724-aaa8-cd35bae1e760",
   "metadata": {
    "tags": []
   },
   "outputs": [],
   "source": [
    "import cv2"
   ]
  },
  {
   "cell_type": "code",
   "execution_count": null,
   "id": "337c08a8-d9ab-4e88-80d5-63957f958a9b",
   "metadata": {
    "tags": []
   },
   "outputs": [],
   "source": [
    "help(cv2.estimateAffinePartial2D)"
   ]
  },
  {
   "cell_type": "code",
   "execution_count": null,
   "id": "d60a5424-31e0-45bb-937f-758026d189a4",
   "metadata": {},
   "outputs": [],
   "source": []
  }
 ],
 "metadata": {
  "kernelspec": {
   "display_name": "Python 3 (ipykernel)",
   "language": "python",
   "name": "python3"
  },
  "language_info": {
   "codemirror_mode": {
    "name": "ipython",
    "version": 3
   },
   "file_extension": ".py",
   "mimetype": "text/x-python",
   "name": "python",
   "nbconvert_exporter": "python",
   "pygments_lexer": "ipython3",
   "version": "3.11.5"
  }
 },
 "nbformat": 4,
 "nbformat_minor": 5
}
