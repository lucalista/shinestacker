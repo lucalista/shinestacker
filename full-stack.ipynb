{
 "cells": [
  {
   "cell_type": "markdown",
   "id": "14930c54-a1cb-4f43-9249-4aa3db6b60db",
   "metadata": {
    "tags": []
   },
   "source": [
    "# Focus stacking with image batches\n",
    "\n",
    "basedon [Laplacian pyramids method](https://github.com/sjawhar/focus-stacking).\n",
    "\n",
    "**Resources:**\n",
    "\n",
    "* [Pyramid Methods in Image Processing](https://www.researchgate.net/publication/246727904_Pyramid_Methods_in_Image_Processing), E. H. Adelson, C. H. Anderson,  J. R. Bergen, P. J. Burt, J. M. Ogden, RCA Engineer, 29-6, Nov/Dec 1984\n",
    "Pyramid methods in image processing\n",
    "* [A Multi-focus Image Fusion Method Based on Laplacian Pyramid](http://www.jcomputers.us/vol6/jcp0612-07.pdf), Wencheng Wang, Faliang Chang, Journal of Computers 6 (12), 2559, December 2011\n",
    "* [Original core implementation on GitHub](https://github.com/bznick98/Focus_Stacking) by Zongnan Bao\n",
    "* [Align with OpenCV](https://magamig.github.io/posts/accurate-image-alignment-and-registration-using-opencv/)\n",
    "* [Balancing contrast and brightness between stitched images](https://itecnote.com/tecnote/opencv-balancing-contrast-and-brightness-between-stitched-images/)\n"
   ]
  },
  {
   "cell_type": "code",
   "execution_count": 2,
   "id": "09d09307-b950-481f-b8ef-821b6f38d28f",
   "metadata": {
    "tags": []
   },
   "outputs": [],
   "source": [
    "import focus_stack as stk\n",
    "import time"
   ]
  },
  {
   "cell_type": "code",
   "execution_count": 12,
   "id": "5ce283d3-6550-4189-89a7-8678496bdac5",
   "metadata": {
    "tags": []
   },
   "outputs": [],
   "source": [
    "t0 = time.time()\n",
    "base_path = \"E:/Focus stacking/2024-03-22 - Mecoptera/A/\"\n",
    "input_path = base_path+\"Immagini modificate\"\n",
    "align_path = base_path+\"aligned\"\n",
    "lumi_path = base_path+\"lumi_balance\"\n",
    "batch_dir = base_path+\"batches\"\n",
    "stack_dir = base_path+\"stacked\"\n",
    "stk.mkdir(align_path)\n",
    "stk.mkdir(lumi_path)\n",
    "stk.mkdir(batch_dir)\n",
    "stk.mkdir(stack_dir)"
   ]
  },
  {
   "cell_type": "code",
   "execution_count": null,
   "id": "a93cbf88-c586-49dd-8aee-28dfd0f2f970",
   "metadata": {
    "scrolled": true,
    "tags": []
   },
   "outputs": [],
   "source": [
    "start = time.time()\n",
    "stk.align_frames(input_path, align_path, detector_method='SIFT', descriptor_method='SIFT', match_method='KNN', flann_idx_kdtree=2, match_threshold=0.75)\n",
    "stk.print_elapsed_time(start)"
   ]
  },
  {
   "cell_type": "code",
   "execution_count": null,
   "id": "b8038137-4b4c-4a20-ad5b-9f4dbee8be85",
   "metadata": {
    "scrolled": true,
    "tags": []
   },
   "outputs": [],
   "source": [
    "start = time.time()\n",
    "stk.lumi_balance(align_path, lumi_path, mode=stk.BALANCE_LUMI, mask_radius=0.8, i_min=10)\n",
    "stk.print_elapsed_time(start)"
   ]
  },
  {
   "cell_type": "code",
   "execution_count": 13,
   "id": "1b4cf32d-8737-4be4-8ff1-cc73b0e1ad6d",
   "metadata": {
    "scrolled": true,
    "tags": []
   },
   "outputs": [
    {
     "name": "stdout",
     "output_type": "stream",
     "text": [
      "Folder: 'E:/Focus stacking/2024-03-22 - Mecoptera/A/lumi_balance'\n",
      "- 53 files: _MG_7223.jpg, _MG_7224.jpg, _MG_7225.jpg, _MG_7226.jpg, _MG_7227.jpg, _MG_7228.jpg, _MG_7229.jpg, _MG_7230.jpg, _MG_7231.jpg, _MG_7232.jpg, _MG_7233.jpg, _MG_7234.jpg, _MG_7235.jpg, _MG_7236.jpg, _MG_7237.jpg, _MG_7238.jpg, _MG_7239.jpg, _MG_7240.jpg, _MG_7241.jpg, _MG_7242.jpg, _MG_7243.jpg, _MG_7244.jpg, _MG_7245.jpg, _MG_7246.jpg, _MG_7247.jpg, _MG_7248.jpg, _MG_7249.jpg, _MG_7250.jpg, _MG_7251.jpg, _MG_7252.jpg, _MG_7253.jpg, _MG_7254.jpg, _MG_7255.jpg, _MG_7256.jpg, _MG_7257.jpg, _MG_7258.jpg, _MG_7259.jpg, _MG_7260.jpg, _MG_7261.jpg, _MG_7262.jpg, _MG_7263.jpg, _MG_7264.jpg, _MG_7265.jpg, _MG_7266.jpg, _MG_7267.jpg, _MG_7268.jpg, _MG_7269.jpg, _MG_7270.jpg, _MG_7271.jpg, _MG_7272.jpg, _MG_7273.jpg, _MG_7274.jpg, _MG_7275.jpg\n",
      "focus stack merge E:/Focus stacking/2024-03-22 - Mecoptera/A/lumi_balance, 8 files: _MG_7223.jpg, _MG_7224.jpg, _MG_7225.jpg, _MG_7226.jpg, _MG_7227.jpg, _MG_7228.jpg, _MG_7229.jpg, _MG_7230.jpg\n",
      "- gaussian pyramids, level: 6 5 4 3 2 1 gaussian pyramids completed\n",
      "- laplacian pyramids, level: 6 5 4 3 2 1 laplacian pyramids completed\n",
      "- fuse pyramids, layer: 6 5 4 3 2 1 fuse pyramids completed \n",
      "stack done\n",
      "- save exif data\n",
      "focus stack merge E:/Focus stacking/2024-03-22 - Mecoptera/A/lumi_balance, 8 files: _MG_7229.jpg, _MG_7230.jpg, _MG_7231.jpg, _MG_7232.jpg, _MG_7233.jpg, _MG_7234.jpg, _MG_7235.jpg, _MG_7236.jpg\n",
      "- gaussian pyramids, level: 6 5 4 3 2 1 gaussian pyramids completed\n",
      "- laplacian pyramids, level: 6 5 4 3 2 1 laplacian pyramids completed\n",
      "- fuse pyramids, layer: 6 5 4 3 2 1 fuse pyramids completed \n",
      "stack done\n",
      "- save exif data\n",
      "focus stack merge E:/Focus stacking/2024-03-22 - Mecoptera/A/lumi_balance, 8 files: _MG_7235.jpg, _MG_7236.jpg, _MG_7237.jpg, _MG_7238.jpg, _MG_7239.jpg, _MG_7240.jpg, _MG_7241.jpg, _MG_7242.jpg\n",
      "- gaussian pyramids, level: 6 5 4 3 2 1 gaussian pyramids completed\n",
      "- laplacian pyramids, level: 6 5 4 3 2 1 laplacian pyramids completed\n",
      "- fuse pyramids, layer: 6 5 4 3 2 1 fuse pyramids completed \n",
      "stack done\n",
      "- save exif data\n",
      "focus stack merge E:/Focus stacking/2024-03-22 - Mecoptera/A/lumi_balance, 8 files: _MG_7241.jpg, _MG_7242.jpg, _MG_7243.jpg, _MG_7244.jpg, _MG_7245.jpg, _MG_7246.jpg, _MG_7247.jpg, _MG_7248.jpg\n",
      "- gaussian pyramids, level: 6 5 4 3 2 1 gaussian pyramids completed\n",
      "- laplacian pyramids, level: 6 5 4 3 2 1 laplacian pyramids completed\n",
      "- fuse pyramids, layer: 6 5 4 3 2 1 fuse pyramids completed \n",
      "stack done\n",
      "- save exif data\n",
      "focus stack merge E:/Focus stacking/2024-03-22 - Mecoptera/A/lumi_balance, 8 files: _MG_7247.jpg, _MG_7248.jpg, _MG_7249.jpg, _MG_7250.jpg, _MG_7251.jpg, _MG_7252.jpg, _MG_7253.jpg, _MG_7254.jpg\n",
      "- gaussian pyramids, level: 6 5 4 3 2 1 gaussian pyramids completed\n",
      "- laplacian pyramids, level: 6 5 4 3 2 1 laplacian pyramids completed\n",
      "- fuse pyramids, layer: 6 5 4 3 2 1 fuse pyramids completed \n",
      "stack done\n",
      "- save exif data\n",
      "focus stack merge E:/Focus stacking/2024-03-22 - Mecoptera/A/lumi_balance, 8 files: _MG_7253.jpg, _MG_7254.jpg, _MG_7255.jpg, _MG_7256.jpg, _MG_7257.jpg, _MG_7258.jpg, _MG_7259.jpg, _MG_7260.jpg\n",
      "- gaussian pyramids, level: 6 5 4 3 2 1 gaussian pyramids completed\n",
      "- laplacian pyramids, level: 6 5 4 3 2 1 laplacian pyramids completed\n",
      "- fuse pyramids, layer: 6 5 4 3 2 1 fuse pyramids completed \n",
      "stack done\n",
      "- save exif data\n",
      "focus stack merge E:/Focus stacking/2024-03-22 - Mecoptera/A/lumi_balance, 8 files: _MG_7259.jpg, _MG_7260.jpg, _MG_7261.jpg, _MG_7262.jpg, _MG_7263.jpg, _MG_7264.jpg, _MG_7265.jpg, _MG_7266.jpg\n",
      "- gaussian pyramids, level: 6 5 4 3 2 1 gaussian pyramids completed\n",
      "- laplacian pyramids, level: 6 5 4 3 2 1 laplacian pyramids completed\n",
      "- fuse pyramids, layer: 6 5 4 3 2 1 fuse pyramids completed \n",
      "stack done\n",
      "- save exif data\n",
      "focus stack merge E:/Focus stacking/2024-03-22 - Mecoptera/A/lumi_balance, 8 files: _MG_7265.jpg, _MG_7266.jpg, _MG_7267.jpg, _MG_7268.jpg, _MG_7269.jpg, _MG_7270.jpg, _MG_7271.jpg, _MG_7272.jpg\n",
      "- gaussian pyramids, level: 6 5 4 3 2 1 gaussian pyramids completed\n",
      "- laplacian pyramids, level: 6 5 4 3 2 1 laplacian pyramids completed\n",
      "- fuse pyramids, layer: 6 5 4 3 2 1 fuse pyramids completed \n",
      "stack done\n",
      "- save exif data\n",
      "focus stack merge E:/Focus stacking/2024-03-22 - Mecoptera/A/lumi_balance, 5 files: _MG_7271.jpg, _MG_7272.jpg, _MG_7273.jpg, _MG_7274.jpg, _MG_7275.jpg\n",
      "- gaussian pyramids, level: 6 5 4 3 2 1 gaussian pyramids completed\n",
      "- laplacian pyramids, level: 6 5 4 3 2 1 laplacian pyramids completed\n",
      "- fuse pyramids, layer: 6 5 4 3 2 1 fuse pyramids completed \n",
      "stack done\n",
      "- save exif data\n",
      "elapsed time: 6:13.02s\n"
     ]
    }
   ],
   "source": [
    "start = time.time()\n",
    "stk.focus_stack_chunks(lumi_path, batch_dir,  exif_dir=input_path, frames=8, overlap=2, denoise=1)\n",
    "stk.print_elapsed_time(start)"
   ]
  },
  {
   "cell_type": "code",
   "execution_count": 14,
   "id": "bc31ca4f-d73f-4ee8-a81d-f1e0c97c9b08",
   "metadata": {
    "scrolled": true,
    "tags": []
   },
   "outputs": [
    {
     "name": "stdout",
     "output_type": "stream",
     "text": [
      "Folder: 'E:/Focus stacking/2024-03-22 - Mecoptera/A/batches'\n",
      "- 9 files: _MG_7223.jpg, _MG_7229.jpg, _MG_7235.jpg, _MG_7241.jpg, _MG_7247.jpg, _MG_7253.jpg, _MG_7259.jpg, _MG_7265.jpg, _MG_7271.jpg\n",
      "focus stack merge E:/Focus stacking/2024-03-22 - Mecoptera/A/batches, 9 files: _MG_7223.jpg, _MG_7229.jpg, _MG_7235.jpg, _MG_7241.jpg, _MG_7247.jpg, _MG_7253.jpg, _MG_7259.jpg, _MG_7265.jpg, _MG_7271.jpg\n",
      "- get focus map\n",
      "- blend images\n",
      "- stack done\n",
      "- save exif data\n",
      "elapsed time: 1:5.40s\n",
      "Folder: 'E:/Focus stacking/2024-03-22 - Mecoptera/A/batches'\n",
      "- 9 files: _MG_7223.jpg, _MG_7229.jpg, _MG_7235.jpg, _MG_7241.jpg, _MG_7247.jpg, _MG_7253.jpg, _MG_7259.jpg, _MG_7265.jpg, _MG_7271.jpg\n",
      "focus stack merge E:/Focus stacking/2024-03-22 - Mecoptera/A/batches, 9 files: _MG_7223.jpg, _MG_7229.jpg, _MG_7235.jpg, _MG_7241.jpg, _MG_7247.jpg, _MG_7253.jpg, _MG_7259.jpg, _MG_7265.jpg, _MG_7271.jpg\n",
      "- gaussian pyramids, level: 6 5 4 3 2 1 gaussian pyramids completed\n",
      "- laplacian pyramids, level: 6 5 4 3 2 1 laplacian pyramids completed\n",
      "- fuse pyramids, layer: 6 5 4 3 2 1 fuse pyramids completed \n",
      "stack done\n",
      "- save exif data\n",
      "elapsed time: 0:47.91s\n",
      "total elapsed time: 8:8.24s\n"
     ]
    }
   ],
   "source": [
    "start = time.time()\n",
    "stk.focus_stack_dir(batch_dir, stack_dir, exif_dir=input_path, postfix='_stack_avg', denoise=1, choice = stk.CHOICE_AVERAGE, energy=stk.ENERGY_LAPLACIAN)\n",
    "stk.print_elapsed_time(start)\n",
    "\n",
    "start = time.time()\n",
    "stk.focus_stack_dir(batch_dir, stack_dir, exif_dir=input_path, postfix='_stack_pyr', denoise=1, choice=stk.CHOICE_PYRAMID, energy=stk.ENERGY_LAPLACIAN)\n",
    "stk.print_elapsed_time(start)\n",
    "\n",
    "print(\"total \", end='')\n",
    "stk.print_elapsed_time(t0)"
   ]
  },
  {
   "cell_type": "code",
   "execution_count": null,
   "id": "ee7af87c-49d6-4c17-9d7d-bbf399db6322",
   "metadata": {},
   "outputs": [],
   "source": []
  }
 ],
 "metadata": {
  "kernelspec": {
   "display_name": "Python 3 (ipykernel)",
   "language": "python",
   "name": "python3"
  },
  "language_info": {
   "codemirror_mode": {
    "name": "ipython",
    "version": 3
   },
   "file_extension": ".py",
   "mimetype": "text/x-python",
   "name": "python",
   "nbconvert_exporter": "python",
   "pygments_lexer": "ipython3",
   "version": "3.11.5"
  }
 },
 "nbformat": 4,
 "nbformat_minor": 5
}
