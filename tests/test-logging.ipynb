{
 "cells": [
  {
   "cell_type": "code",
   "execution_count": 1,
   "id": "081506d6-d978-425b-94d8-008f05ed403a",
   "metadata": {},
   "outputs": [],
   "source": [
    "import logging\n",
    "import sys\n",
    "sys.path.append('../')\n",
    "from focus_stack import setup_logging, console_logging_overwrite, console_logging_newline"
   ]
  },
  {
   "cell_type": "code",
   "execution_count": 2,
   "id": "bf025a49-21eb-47cc-ac33-2b925beb955d",
   "metadata": {},
   "outputs": [],
   "source": [
    "setup_logging(\n",
    "    console_level=logging.DEBUG,\n",
    "    file_level=logging.DEBUG,\n",
    "    log_file=\"logs/focusstack.log\"\n",
    ")"
   ]
  },
  {
   "cell_type": "code",
   "execution_count": 3,
   "id": "b3b69eb4-c421-43fa-9f4f-0040e974a7ba",
   "metadata": {},
   "outputs": [
    {
     "name": "stdout",
     "output_type": "stream",
     "text": [
      "\u001b[32m[INF 2025-05-11 08:47:28,565]\u001b[0m Started\n",
      "\u001b[36m[DEB 2025-05-11 08:47:28,565]\u001b[0m pi = 3.14\n",
      "\u001b[33m[WAR 2025-05-11 08:47:28,566]\u001b[0m warning...!\n",
      "\u001b[31m[ERR 2025-05-11 08:47:28,566]\u001b[0m crash...!\n",
      "\u001b[31;1m[CRI 2025-05-11 08:47:28,566]\u001b[0m stop...!\n",
      "\u001b[32m[INF 2025-05-11 08:47:28,566]\u001b[0m \u001b[32mcolored message, b&w on log file\u001b[0m\n",
      "\u001b[32m[INF 2025-05-11 08:47:28,567]\u001b[0m this message is in log file and on console\n",
      "\u001b[32m[INF 2025-05-11 08:47:28,567]\u001b[0m Finished\n"
     ]
    }
   ],
   "source": [
    "logger = logging.getLogger(__name__) \n",
    "logger.info('Started')\n",
    "logger.debug('pi = 3.14')\n",
    "logger.warning('warning...!')\n",
    "logger.error('crash...!')\n",
    "logger.critical('stop...!')\n",
    "logger.info('\\033[32mcolored message, b&w on log file\\033[0m')\n",
    "console_logging_overwrite()\n",
    "logger.info('this message is in log file only')\n",
    "console_logging_newline()\n",
    "logger.info('this message is in log file and on console')\n",
    "logger.info('Finished')"
   ]
  },
  {
   "cell_type": "code",
   "execution_count": null,
   "id": "091aff2a-06e1-4fef-948f-4a491b3f809b",
   "metadata": {},
   "outputs": [],
   "source": []
  }
 ],
 "metadata": {
  "kernelspec": {
   "display_name": "Python [conda env:base] *",
   "language": "python",
   "name": "conda-base-py"
  },
  "language_info": {
   "codemirror_mode": {
    "name": "ipython",
    "version": 3
   },
   "file_extension": ".py",
   "mimetype": "text/x-python",
   "name": "python",
   "nbconvert_exporter": "python",
   "pygments_lexer": "ipython3",
   "version": "3.12.7"
  }
 },
 "nbformat": 4,
 "nbformat_minor": 5
}
