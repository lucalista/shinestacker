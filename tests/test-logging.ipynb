{
 "cells": [
  {
   "cell_type": "code",
   "execution_count": 2,
   "id": "091aff2a-06e1-4fef-948f-4a491b3f809b",
   "metadata": {},
   "outputs": [
    {
     "name": "stdout",
     "output_type": "stream",
     "text": [
      "\u001b[32m[INF]\u001b[0m Started\n",
      "\u001b[36m[DEB]\u001b[0m pi = 3.14\n",
      "\u001b[33m[WAR]\u001b[0m warning...!\n",
      "\u001b[31m[ERR]\u001b[0m crash...!\n",
      "\u001b[31;1m[CRI]\u001b[0m stop...!\n",
      "\u001b[32m[INF]\u001b[0m \u001b[32mcolored message, b&w on log file\u001b[0m\n",
      "\u001b[32m[INF]\u001b[0m this message is in log file and on console\n",
      "\u001b[32m[INF]\u001b[0m Finished\n"
     ]
    }
   ],
   "source": [
    "%run -i 'test_0000_logging.py'"
   ]
  }
 ],
 "metadata": {
  "kernelspec": {
   "display_name": "Python [conda env:base] *",
   "language": "python",
   "name": "conda-base-py"
  },
  "language_info": {
   "codemirror_mode": {
    "name": "ipython",
    "version": 3
   },
   "file_extension": ".py",
   "mimetype": "text/x-python",
   "name": "python",
   "nbconvert_exporter": "python",
   "pygments_lexer": "ipython3",
   "version": "3.12.7"
  }
 },
 "nbformat": 4,
 "nbformat_minor": 5
}
