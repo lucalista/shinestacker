{
 "cells": [
  {
   "cell_type": "code",
   "execution_count": 1,
   "id": "96ec8db5-b273-40d0-902c-133a66e17dc3",
   "metadata": {},
   "outputs": [
    {
     "name": "stdout",
     "output_type": "stream",
     "text": [
      "\u001b[32m[INF]\u001b[0m *** Source EXIF ***\n",
      "\u001b[32m[INF]\u001b[0m ImageWidth                [#256]: 5616\n",
      "\u001b[32m[INF]\u001b[0m ImageLength               [#257]: 3744\n",
      "\u001b[32m[INF]\u001b[0m BitsPerSample             [#258]: (8, 8, 8)\n",
      "\u001b[32m[INF]\u001b[0m Compression               [#259]: 5\n",
      "\u001b[32m[INF]\u001b[0m PhotometricInterpretation [#262]: 2\n",
      "\u001b[32m[INF]\u001b[0m ResolutionUnit            [#296]: 2\n",
      "\u001b[32m[INF]\u001b[0m ExifOffset                [#34665]: 308\n",
      "\u001b[32m[INF]\u001b[0m Make                      [#271]: Canon\n",
      "\u001b[32m[INF]\u001b[0m Model                     [#272]: Canon EOS 5D Mark II\n",
      "\u001b[32m[INF]\u001b[0m Software                  [#305]: Adobe Photoshop 24.7 (Windows)\n",
      "\u001b[32m[INF]\u001b[0m Orientation               [#274]: 1\n",
      "\u001b[32m[INF]\u001b[0m DateTime                  [#306]: 2025:02:09 20:02:22\n",
      "\u001b[32m[INF]\u001b[0m SamplesPerPixel           [#277]: 3\n",
      "\u001b[32m[INF]\u001b[0m XResolution               [#282]: 240.0\n",
      "\u001b[32m[INF]\u001b[0m YResolution               [#283]: 240.0\n",
      "\u001b[32m[INF]\u001b[0m PlanarConfiguration       [#284]: 1\n",
      "\u001b[32m[INF]\u001b[0m *** Copy EXIF ***\n",
      "\u001b[32m[INF]\u001b[0m ImageWidth                [#256]: 5616\n",
      "\u001b[32m[INF]\u001b[0m ImageLength               [#257]: 3744\n",
      "\u001b[32m[INF]\u001b[0m BitsPerSample             [#258]: (8, 8, 8)\n",
      "\u001b[32m[INF]\u001b[0m Compression               [#259]: 5\n",
      "\u001b[32m[INF]\u001b[0m PhotometricInterpretation [#262]: 2\n",
      "\u001b[32m[INF]\u001b[0m ResolutionUnit            [#296]: 2\n",
      "\u001b[32m[INF]\u001b[0m ExifOffset                [#34665]: 308\n",
      "\u001b[32m[INF]\u001b[0m Make                      [#271]: Canon\n",
      "\u001b[32m[INF]\u001b[0m Model                     [#272]: Canon EOS 5D Mark II\n",
      "\u001b[32m[INF]\u001b[0m Software                  [#305]: Adobe Photoshop 24.7 (Windows)\n",
      "\u001b[32m[INF]\u001b[0m Orientation               [#274]: 1\n",
      "\u001b[32m[INF]\u001b[0m DateTime                  [#306]: 2025:02:09 20:02:22\n",
      "\u001b[32m[INF]\u001b[0m SamplesPerPixel           [#277]: 3\n",
      "\u001b[32m[INF]\u001b[0m XResolution               [#282]: 240.0\n",
      "\u001b[32m[INF]\u001b[0m YResolution               [#283]: 240.0\n",
      "\u001b[32m[INF]\u001b[0m PlanarConfiguration       [#284]: 1\n"
     ]
    }
   ],
   "source": [
    "%run -i \"test_0080_exif.py\""
   ]
  }
 ],
 "metadata": {
  "kernelspec": {
   "display_name": "Python [conda env:base] *",
   "language": "python",
   "name": "conda-base-py"
  },
  "language_info": {
   "codemirror_mode": {
    "name": "ipython",
    "version": 3
   },
   "file_extension": ".py",
   "mimetype": "text/x-python",
   "name": "python",
   "nbconvert_exporter": "python",
   "pygments_lexer": "ipython3",
   "version": "3.12.7"
  }
 },
 "nbformat": 4,
 "nbformat_minor": 5
}
