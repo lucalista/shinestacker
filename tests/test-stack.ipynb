{
 "cells": [
  {
   "cell_type": "code",
   "execution_count": 1,
   "id": "18c7bf9a-3dc5-4edb-a06e-cb2be2d8021f",
   "metadata": {},
   "outputs": [
    {
     "name": "stdout",
     "output_type": "stream",
     "text": [
      "\u001b[32m[INF]\u001b[0m \u001b[1m\u001b[34m\u001b[1m\u001b[34mimg-jpg-stack\u001b[0m: \u001b[34m: 6 files in folder: ./img-jpg\u001b[0m\u001b[0m                              \n",
      "\u001b[32m[INF]\u001b[0m \u001b[1m\u001b[34m\u001b[1m\u001b[34mimg-jpg-stack\u001b[0m: \u001b[34mfocus stacking\u001b[0m\u001b[0m                              \n",
      "\u001b[32m[INF]\u001b[0m \u001b[1m\u001b[32mimg-jpg-stack: \u001b[0m\u001b[32melapsed time: 00:00:01.73s\u001b[0m                                                                              \n",
      "\u001b[32m[INF]\u001b[0m \u001b[1m\u001b[32mimg-jpg-stack: \u001b[0m\u001b[32mcompleted\u001b[0m                              \n",
      "\u001b[32m[INF]\u001b[0m \u001b[1m\u001b[32mjob: \u001b[0m\u001b[32melapsed time: 00:00:01.73s\u001b[0m                              \n",
      "\u001b[32m[INF]\u001b[0m \u001b[1m\u001b[32mjob: \u001b[0m\u001b[32mcompleted\u001b[0m                              \n",
      "\u001b[32m[INF]\u001b[0m \u001b[1m\u001b[34m\u001b[1m\u001b[34mimg-tif-stack\u001b[0m: \u001b[34m: 6 files in folder: ./img-tif\u001b[0m\u001b[0m                              \n",
      "\u001b[32m[INF]\u001b[0m \u001b[1m\u001b[34m\u001b[1m\u001b[34mimg-tif-stack\u001b[0m: \u001b[34mfocus stacking\u001b[0m\u001b[0m                              \n",
      "\u001b[32m[INF]\u001b[0m \u001b[1m\u001b[32mimg-tif-stack: \u001b[0m\u001b[32melapsed time: 00:00:01.60s\u001b[0m                                                                     \n",
      "\u001b[32m[INF]\u001b[0m \u001b[1m\u001b[32mimg-tif-stack: \u001b[0m\u001b[32mcompleted\u001b[0m                              \n",
      "\u001b[32m[INF]\u001b[0m \u001b[1m\u001b[32mjob: \u001b[0m\u001b[32melapsed time: 00:00:01.60s\u001b[0m                              \n",
      "\u001b[32m[INF]\u001b[0m \u001b[1m\u001b[32mjob: \u001b[0m\u001b[32mcompleted\u001b[0m                              \n",
      "\u001b[32m[INF]\u001b[0m \u001b[1m\u001b[34m\u001b[1m\u001b[34mimg-jpg-stack\u001b[0m: \u001b[34m: 6 files in folder: ./img-jpg\u001b[0m\u001b[0m                              \n",
      "\u001b[32m[INF]\u001b[0m \u001b[1m\u001b[34m\u001b[1m\u001b[34mimg-jpg-stack\u001b[0m: \u001b[34mfocus stacking\u001b[0m\u001b[0m                              \n",
      "\u001b[32m[INF]\u001b[0m \u001b[1m\u001b[32mimg-jpg-stack: \u001b[0m\u001b[32melapsed time: 00:00:02.19s\u001b[0m                                                                              \n",
      "\u001b[32m[INF]\u001b[0m \u001b[1m\u001b[32mimg-jpg-stack: \u001b[0m\u001b[32mcompleted\u001b[0m                              \n",
      "\u001b[32m[INF]\u001b[0m \u001b[1m\u001b[32mjob: \u001b[0m\u001b[32melapsed time: 00:00:02.19s\u001b[0m                              \n",
      "\u001b[32m[INF]\u001b[0m \u001b[1m\u001b[32mjob: \u001b[0m\u001b[32mcompleted\u001b[0m                              \n",
      "\u001b[32m[INF]\u001b[0m \u001b[1m\u001b[34m\u001b[1m\u001b[34mimg-jpg-bunches\u001b[0m: begin run\u001b[0m                              \n"
     ]
    },
    {
     "data": {
      "application/vnd.jupyter.widget-view+json": {
       "model_id": "356adfbe355a4e9fa99d3f51f58b1a8b",
       "version_major": 2,
       "version_minor": 0
      },
      "text/plain": [
       "img-jpg-bunches:   0%|          | 0/2 [00:00<?, ?it/s]"
      ]
     },
     "metadata": {},
     "output_type": "display_data"
    },
    {
     "name": "stdout",
     "output_type": "stream",
     "text": [
      "\u001b[32m[INF]\u001b[0m \u001b[1m\u001b[32mimg-jpg-bunches: \u001b[0m\u001b[32melapsed time: 00:00:02.00s\u001b[0m                                                                               \n",
      "\u001b[32m[INF]\u001b[0m \u001b[1m\u001b[32mimg-jpg-bunches: \u001b[0m\u001b[32mcompleted\u001b[0m                              \n",
      "\u001b[32m[INF]\u001b[0m \u001b[1m\u001b[32mjob: \u001b[0m\u001b[32melapsed time: 00:00:02.01s\u001b[0m                              \n",
      "\u001b[32m[INF]\u001b[0m \u001b[1m\u001b[32mjob: \u001b[0m\u001b[32mcompleted\u001b[0m                              \n"
     ]
    }
   ],
   "source": [
    "%run -i \"test_0060_stack.py\""
   ]
  }
 ],
 "metadata": {
  "kernelspec": {
   "display_name": "Python [conda env:base] *",
   "language": "python",
   "name": "conda-base-py"
  },
  "language_info": {
   "codemirror_mode": {
    "name": "ipython",
    "version": 3
   },
   "file_extension": ".py",
   "mimetype": "text/x-python",
   "name": "python",
   "nbconvert_exporter": "python",
   "pygments_lexer": "ipython3",
   "version": "3.12.7"
  }
 },
 "nbformat": 4,
 "nbformat_minor": 5
}
