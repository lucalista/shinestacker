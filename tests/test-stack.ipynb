{
 "cells": [
  {
   "cell_type": "code",
   "execution_count": 1,
   "id": "18c7bf9a-3dc5-4edb-a06e-cb2be2d8021f",
   "metadata": {},
   "outputs": [
    {
     "name": "stdout",
     "output_type": "stream",
     "text": [
      "None\n",
      "img-jpg\n",
      "\u001b[32m[INF]\u001b[0m \u001b[1m\u001b[34mimg-jpg-stack\u001b[0m\u001b[34m: 6 files in folder: ./img-jpg     \u001b[0m\n",
      "\u001b[32m[INF]\u001b[0m \u001b[1m\u001b[32mimg-jpg-stack: \u001b[0m\u001b[32melapsed time: 00:00:03.38s                    \u001b[0m\n",
      "\u001b[32m[INF]\u001b[0m \u001b[1m\u001b[32mimg-jpg-stack: \u001b[0m\u001b[32mcompleted                    \u001b[0m\n",
      "\u001b[32m[INF]\u001b[0m \u001b[1m\u001b[32mjob: \u001b[0m\u001b[32melapsed time: 00:00:03.38s                    \u001b[0m\n",
      "\u001b[32m[INF]\u001b[0m \u001b[1m\u001b[32mjob: \u001b[0m\u001b[32mcompleted                    \u001b[0m\n",
      "None\n",
      "img-tif\n",
      "\u001b[32m[INF]\u001b[0m \u001b[1m\u001b[34mimg-tif-stack\u001b[0m\u001b[34m: 6 files in folder: ./img-tif     \u001b[0m\n",
      "\u001b[32m[INF]\u001b[0m \u001b[1m\u001b[32mimg-tif-stack: \u001b[0m\u001b[32melapsed time: 00:00:03.28s                    \u001b[0m\n",
      "\u001b[32m[INF]\u001b[0m \u001b[1m\u001b[32mimg-tif-stack: \u001b[0m\u001b[32mcompleted                    \u001b[0m\n",
      "\u001b[32m[INF]\u001b[0m \u001b[1m\u001b[32mjob: \u001b[0m\u001b[32melapsed time: 00:00:03.29s                    \u001b[0m\n",
      "\u001b[32m[INF]\u001b[0m \u001b[1m\u001b[32mjob: \u001b[0m\u001b[32mcompleted                    \u001b[0m\n",
      "None\n",
      "img-jpg\n",
      "\u001b[32m[INF]\u001b[0m \u001b[1m\u001b[34mimg-jpg-stack\u001b[0m\u001b[34m: 6 files in folder: ./img-jpg     \u001b[0m\n",
      "\u001b[32m[INF]\u001b[0m \u001b[1m\u001b[32mimg-jpg-stack: \u001b[0m\u001b[32melapsed time: 00:00:02.20s                    \u001b[0m\n",
      "\u001b[32m[INF]\u001b[0m \u001b[1m\u001b[32mimg-jpg-stack: \u001b[0m\u001b[32mcompleted                    \u001b[0m\n",
      "\u001b[32m[INF]\u001b[0m \u001b[1m\u001b[32mjob: \u001b[0m\u001b[32melapsed time: 00:00:02.20s                    \u001b[0m\n",
      "\u001b[32m[INF]\u001b[0m \u001b[1m\u001b[32mjob: \u001b[0m\u001b[32mcompleted                    \u001b[0m\n",
      "None\n",
      "img-jpg\n",
      "\u001b[32m[INF]\u001b[0m \u001b[1m\u001b[34m\u001b[1m\u001b[34mimg-jpg-bunches\u001b[0m\u001b[0m"
     ]
    },
    {
     "data": {
      "application/vnd.jupyter.widget-view+json": {
       "model_id": "0a187653adad4e69880be940b4220f1a",
       "version_major": 2,
       "version_minor": 0
      },
      "text/plain": [
       "img-jpg-bunches:   0%|          | 0/2 [00:00<?, ?it/s]"
      ]
     },
     "metadata": {},
     "output_type": "display_data"
    },
    {
     "name": "stdout",
     "output_type": "stream",
     "text": [
      "\u001b[32m[INF]\u001b[0m \u001b[1m\u001b[32mimg-jpg-bunches: \u001b[0m\u001b[32melapsed time: 00:00:03.71s                    \u001b[0md              \u001b[0m\u001b[0m0m\n",
      "\u001b[32m[INF]\u001b[0m \u001b[1m\u001b[32mimg-jpg-bunches: \u001b[0m\u001b[32mcompleted                    \u001b[0m\n",
      "\u001b[32m[INF]\u001b[0m \u001b[1m\u001b[32mjob: \u001b[0m\u001b[32melapsed time: 00:00:03.71s                    \u001b[0m\n",
      "\u001b[32m[INF]\u001b[0m \u001b[1m\u001b[32mjob: \u001b[0m\u001b[32mcompleted                    \u001b[0m\n"
     ]
    }
   ],
   "source": [
    "%run -i \"test_0060_stack.py\""
   ]
  }
 ],
 "metadata": {
  "kernelspec": {
   "display_name": "Python 3 (ipykernel)",
   "language": "python",
   "name": "python3"
  },
  "language_info": {
   "codemirror_mode": {
    "name": "ipython",
    "version": 3
   },
   "file_extension": ".py",
   "mimetype": "text/x-python",
   "name": "python",
   "nbconvert_exporter": "python",
   "pygments_lexer": "ipython3",
   "version": "3.13.3"
  }
 },
 "nbformat": 4,
 "nbformat_minor": 5
}
