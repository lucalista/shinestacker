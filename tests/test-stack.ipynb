{
 "cells": [
  {
   "cell_type": "code",
   "execution_count": 1,
   "id": "957a4e7f-f552-4bcc-84c2-37054cbce691",
   "metadata": {},
   "outputs": [],
   "source": [
    "import sys\n",
    "sys.path.append('../')\n",
    "from focus_stack import *"
   ]
  },
  {
   "cell_type": "code",
   "execution_count": 2,
   "id": "9556ab85-32ea-4df1-8f09-d53b670030a3",
   "metadata": {},
   "outputs": [
    {
     "name": "stdout",
     "output_type": "stream",
     "text": [
      "\u001b[32m[INF 2025-05-11 08:23:47,954]\u001b[0m \u001b[1m\u001b[34m\u001b[1m\u001b[34mrunning img-jpg-stack\u001b[0m\u001b[0m\n",
      "\u001b[34m4 files in folder: ./img-jpg-stack     \u001b[0m\n",
      "\u001b[32m[INF 2025-05-11 08:23:49,322]\u001b[0m \u001b[1m\u001b[32mimg-jpg-stack: \u001b[0m\u001b[32melapsed time: 00:00:01.37s                    \u001b[0m\n",
      "\u001b[32m[INF 2025-05-11 08:23:49,322]\u001b[0m \u001b[1m\u001b[32mimg-jpg-stack: \u001b[0m\u001b[32mcompleted                    \u001b[0m\n",
      "\u001b[32m[INF 2025-05-11 08:23:49,322]\u001b[0m \u001b[1m\u001b[32mjob: \u001b[0m\u001b[32melapsed time: 00:00:01.37s                    \u001b[0m\n",
      "\u001b[32m[INF 2025-05-11 08:23:49,323]\u001b[0m \u001b[1m\u001b[32mjob: \u001b[0m\u001b[32mcompleted                    \u001b[0m\n"
     ]
    }
   ],
   "source": [
    "job = StackJob(\"job\", \"./\", input_path=\"img-jpg\")\n",
    "job.add_action(FocusStack(\"img-jpg-stack\", PyramidStack(), postfix='_pyr'))\n",
    "job.run()"
   ]
  },
  {
   "cell_type": "code",
   "execution_count": 3,
   "id": "ceca40fa-0fdf-4426-8368-a64ffd44b19e",
   "metadata": {},
   "outputs": [
    {
     "name": "stdout",
     "output_type": "stream",
     "text": [
      "\u001b[32m[INF 2025-05-11 08:23:49,325]\u001b[0m \u001b[1m\u001b[34m\u001b[1m\u001b[34mrunning img-tif-stack\u001b[0m\u001b[0m\n",
      "\u001b[34m2 files in folder: ./img-tif-stack     \u001b[0m\n",
      "\u001b[32m[INF 2025-05-11 08:23:49,997]\u001b[0m \u001b[1m\u001b[32mimg-tif-stack: \u001b[0m\u001b[32melapsed time: 00:00:00.67s                    \u001b[0m\n",
      "\u001b[32m[INF 2025-05-11 08:23:49,998]\u001b[0m \u001b[1m\u001b[32mimg-tif-stack: \u001b[0m\u001b[32mcompleted                    \u001b[0m\n",
      "\u001b[32m[INF 2025-05-11 08:23:49,998]\u001b[0m \u001b[1m\u001b[32mjob: \u001b[0m\u001b[32melapsed time: 00:00:00.67s                    \u001b[0m\n",
      "\u001b[32m[INF 2025-05-11 08:23:49,998]\u001b[0m \u001b[1m\u001b[32mjob: \u001b[0m\u001b[32mcompleted                    \u001b[0m\n"
     ]
    }
   ],
   "source": [
    "job = StackJob(\"job\", \"./\", input_path=\"img-tif\")\n",
    "job.add_action(FocusStack(\"img-tif-stack\", PyramidStack(), postfix='_pyr'))\n",
    "job.run()"
   ]
  },
  {
   "cell_type": "code",
   "execution_count": 4,
   "id": "abf8f8aa-de76-4c53-8ca1-4ac574bed311",
   "metadata": {},
   "outputs": [
    {
     "name": "stdout",
     "output_type": "stream",
     "text": [
      "\u001b[32m[INF 2025-05-11 08:23:50,001]\u001b[0m \u001b[1m\u001b[34m\u001b[1m\u001b[34mrunning img-jpg-stack\u001b[0m\u001b[0m\n",
      "\u001b[34m4 files in folder: ./img-jpg-stack     \u001b[0m\n",
      "\u001b[32m[INF 2025-05-11 08:23:51,560]\u001b[0m \u001b[1m\u001b[32mimg-jpg-stack: \u001b[0m\u001b[32melapsed time: 00:00:01.56s                    \u001b[0m\n",
      "\u001b[32m[INF 2025-05-11 08:23:51,560]\u001b[0m \u001b[1m\u001b[32mimg-jpg-stack: \u001b[0m\u001b[32mcompleted                    \u001b[0m\n",
      "\u001b[32m[INF 2025-05-11 08:23:51,561]\u001b[0m \u001b[1m\u001b[32mjob: \u001b[0m\u001b[32melapsed time: 00:00:01.56s                    \u001b[0m\n",
      "\u001b[32m[INF 2025-05-11 08:23:51,561]\u001b[0m \u001b[1m\u001b[32mjob: \u001b[0m\u001b[32mcompleted                    \u001b[0m\n"
     ]
    }
   ],
   "source": [
    "job = StackJob(\"job\", \"./\", input_path=\"img-jpg\")\n",
    "job.add_action(FocusStack(\"img-jpg-stack\", DepthMapStack(), postfix='_dm'))\n",
    "job.run()"
   ]
  },
  {
   "cell_type": "code",
   "execution_count": 5,
   "id": "ce47ab4c-be36-4cc1-9ce4-8e745eb40268",
   "metadata": {},
   "outputs": [
    {
     "name": "stdout",
     "output_type": "stream",
     "text": [
      "\u001b[32m[INF 2025-05-11 08:23:51,564]\u001b[0m \u001b[1m\u001b[34m\u001b[1m\u001b[34mrunning img-jpg-bunches\u001b[0m\u001b[0m\r"
     ]
    },
    {
     "data": {
      "application/vnd.jupyter.widget-view+json": {
       "model_id": "dc0134663baf45c99cff782b75f81450",
       "version_major": 2,
       "version_minor": 0
      },
      "text/plain": [
       "img-jpg-bunches:   0%|          | 0/1 [00:00<?, ?it/s]"
      ]
     },
     "metadata": {},
     "output_type": "display_data"
    },
    {
     "name": "stdout",
     "output_type": "stream",
     "text": [
      "\u001b[32m[INF 2025-05-11 08:23:52,415]\u001b[0m \u001b[1m\u001b[32mimg-jpg-bunches: \u001b[0m\u001b[32melapsed time: 00:00:00.85s                    \u001b[0m                         \n",
      "\u001b[32m[INF 2025-05-11 08:23:52,415]\u001b[0m \u001b[1m\u001b[32mimg-jpg-bunches: \u001b[0m\u001b[32mcompleted                    \u001b[0m\n",
      "\u001b[32m[INF 2025-05-11 08:23:52,416]\u001b[0m \u001b[1m\u001b[32mjob: \u001b[0m\u001b[32melapsed time: 00:00:00.85s                    \u001b[0m\n",
      "\u001b[32m[INF 2025-05-11 08:23:52,416]\u001b[0m \u001b[1m\u001b[32mjob: \u001b[0m\u001b[32mcompleted                    \u001b[0m\n"
     ]
    }
   ],
   "source": [
    "job = StackJob(\"job\", \"./\", input_path=\"img-jpg\")\n",
    "job.add_action(FocusStackBunch(\"img-jpg-bunches\",  PyramidStack(), frames=3))\n",
    "job.run()"
   ]
  }
 ],
 "metadata": {
  "kernelspec": {
   "display_name": "Python [conda env:base] *",
   "language": "python",
   "name": "conda-base-py"
  },
  "language_info": {
   "codemirror_mode": {
    "name": "ipython",
    "version": 3
   },
   "file_extension": ".py",
   "mimetype": "text/x-python",
   "name": "python",
   "nbconvert_exporter": "python",
   "pygments_lexer": "ipython3",
   "version": "3.12.7"
  }
 },
 "nbformat": 4,
 "nbformat_minor": 5
}
