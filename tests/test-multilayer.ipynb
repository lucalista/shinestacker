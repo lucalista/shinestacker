{
 "cells": [
  {
   "cell_type": "code",
   "execution_count": 1,
   "id": "c39e71f8-b74c-467d-a34c-0bf7153ecc67",
   "metadata": {},
   "outputs": [],
   "source": [
    "import sys\n",
    "sys.path.append('../')\n",
    "from focus_stack import *"
   ]
  },
  {
   "cell_type": "code",
   "execution_count": 2,
   "id": "c8b7ad27-3810-42cb-b67a-1627088197ff",
   "metadata": {},
   "outputs": [
    {
     "name": "stdout",
     "output_type": "stream",
     "text": [
      "\u001b[32m[INF 2025-05-11 08:24:18,347]\u001b[0m \u001b[1m\u001b[34m\u001b[1m\u001b[34mrunning img-jpg-multilayer\u001b[0m\u001b[0m\n",
      "\u001b[32m[INF 2025-05-11 08:24:18,347]\u001b[0m \u001b[1m\u001b[34m\u001b[1m\u001b[34mrunning img-jpg-multilayer\u001b[0m: \u001b[34m: merging frames in folders: ./img-jpg, ./img-jpg-stack\u001b[0m\u001b[0m\n",
      "\u001b[32m[INF 2025-05-11 08:24:18,348]\u001b[0m \u001b[1m\u001b[34m\u001b[1m\u001b[34mrunning img-jpg-multilayer\u001b[0m: \u001b[34m: frames: 0002.jpg, 0003.jpg, 0001.jpg, 0000.jpg, 0004.jpg, 0005.jpg, 0000_pyr.jpg, 0000_dm_dm.jpg, 0000_dm.jpg, 0000_dm_pyr.jpg\u001b[0m\u001b[0m\n",
      "\u001b[32m[INF 2025-05-11 08:24:18,348]\u001b[0m \u001b[1m\u001b[34m\u001b[1m\u001b[34mrunning img-jpg-multilayer\u001b[0m: \u001b[34m: reading files\u001b[0m\u001b[0m\n",
      "\u001b[32m[INF 2025-05-11 08:24:18,509]\u001b[0m \u001b[1m\u001b[34m\u001b[1m\u001b[34mrunning img-jpg-multilayer\u001b[0m: \u001b[34m: writing multilayer tiff img-jpg-multilayer/0000_dm_pyr.tif\u001b[0m\u001b[0m\n",
      "\u001b[32m[INF 2025-05-11 08:24:22,637]\u001b[0m \u001b[1m\u001b[32mimg-jpg-multilayer: \u001b[0m\u001b[32melapsed time: 00:00:04.29s                    \u001b[0m\n",
      "\u001b[32m[INF 2025-05-11 08:24:22,637]\u001b[0m \u001b[1m\u001b[32mimg-jpg-multilayer: \u001b[0m\u001b[32mcompleted                    \u001b[0m\n",
      "\u001b[32m[INF 2025-05-11 08:24:22,638]\u001b[0m \u001b[1m\u001b[32mjob: \u001b[0m\u001b[32melapsed time: 00:00:04.29s                    \u001b[0m\n",
      "\u001b[32m[INF 2025-05-11 08:24:22,638]\u001b[0m \u001b[1m\u001b[32mjob: \u001b[0m\u001b[32mcompleted                    \u001b[0m\n"
     ]
    }
   ],
   "source": [
    "job = StackJob(\"job\", \"./\", input_path=\"img-jpg\")\n",
    "job.add_action(MultiLayer(\"img-jpg-multilayer\", input_path=[\"img-jpg\", \"img-jpg-stack\"], reverse_order=True))\n",
    "job.run()"
   ]
  },
  {
   "cell_type": "code",
   "execution_count": 3,
   "id": "2e153599-94df-40c0-90b3-0634c8ff2def",
   "metadata": {},
   "outputs": [
    {
     "name": "stdout",
     "output_type": "stream",
     "text": [
      "\u001b[32m[INF 2025-05-11 08:24:22,641]\u001b[0m \u001b[1m\u001b[34m\u001b[1m\u001b[34mrunning img-tiff-multilayer\u001b[0m\u001b[0m\n",
      "\u001b[32m[INF 2025-05-11 08:24:22,641]\u001b[0m \u001b[1m\u001b[34m\u001b[1m\u001b[34mrunning img-tiff-multilayer\u001b[0m: \u001b[34m: merging frames in folders: ./img-tif, ./img-tif-stack\u001b[0m\u001b[0m\n",
      "\u001b[32m[INF 2025-05-11 08:24:22,642]\u001b[0m \u001b[1m\u001b[34m\u001b[1m\u001b[34mrunning img-tiff-multilayer\u001b[0m: \u001b[34m: frames: 0005.tif, 0004.tif, 0003.tif, 0002.tif, 0000.tif, 0001.tif, 0000_pyr.tif, 0000_pyr_pyr.tif\u001b[0m\u001b[0m\n",
      "\u001b[32m[INF 2025-05-11 08:24:22,642]\u001b[0m \u001b[1m\u001b[34m\u001b[1m\u001b[34mrunning img-tiff-multilayer\u001b[0m: \u001b[34m: reading files\u001b[0m\u001b[0m\n",
      "\u001b[32m[INF 2025-05-11 08:24:22,704]\u001b[0m \u001b[1m\u001b[34m\u001b[1m\u001b[34mrunning img-tiff-multilayer\u001b[0m: \u001b[34m: writing multilayer tiff img-tiff-multilayer/0000_pyr_pyr.tif\u001b[0m\u001b[0m\n",
      "\u001b[32m[INF 2025-05-11 08:24:26,537]\u001b[0m \u001b[1m\u001b[32mimg-tiff-multilayer: \u001b[0m\u001b[32melapsed time: 00:00:03.90s                    \u001b[0m\n",
      "\u001b[32m[INF 2025-05-11 08:24:26,538]\u001b[0m \u001b[1m\u001b[32mimg-tiff-multilayer: \u001b[0m\u001b[32mcompleted                    \u001b[0m\n",
      "\u001b[32m[INF 2025-05-11 08:24:26,538]\u001b[0m \u001b[1m\u001b[32mjob: \u001b[0m\u001b[32melapsed time: 00:00:03.90s                    \u001b[0m\n",
      "\u001b[32m[INF 2025-05-11 08:24:26,539]\u001b[0m \u001b[1m\u001b[32mjob: \u001b[0m\u001b[32mcompleted                    \u001b[0m\n"
     ]
    }
   ],
   "source": [
    "job = StackJob(\"job\", \"./\", input_path=\"img-tif\")\n",
    "job.add_action(MultiLayer(\"img-tiff-multilayer\", input_path=[\"img-tif\", \"img-tif-stack\"], reverse_order=True))\n",
    "job.run()"
   ]
  }
 ],
 "metadata": {
  "kernelspec": {
   "display_name": "Python [conda env:base] *",
   "language": "python",
   "name": "conda-base-py"
  },
  "language_info": {
   "codemirror_mode": {
    "name": "ipython",
    "version": 3
   },
   "file_extension": ".py",
   "mimetype": "text/x-python",
   "name": "python",
   "nbconvert_exporter": "python",
   "pygments_lexer": "ipython3",
   "version": "3.12.7"
  }
 },
 "nbformat": 4,
 "nbformat_minor": 5
}
