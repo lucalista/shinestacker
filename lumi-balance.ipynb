{
 "cells": [
  {
   "cell_type": "markdown",
   "id": "10a3d4b8-8508-4790-b984-1c6000f0c1ef",
   "metadata": {
    "tags": []
   },
   "source": [
    "* [Gamma correction](https://pyimagesearch.com/2015/10/05/opencv-gamma-correction/)"
   ]
  },
  {
   "cell_type": "code",
   "execution_count": 1,
   "id": "364dda88-ed78-45c6-86a9-df5b9dba1efb",
   "metadata": {
    "tags": []
   },
   "outputs": [],
   "source": [
    "import focus_stack as stk"
   ]
  },
  {
   "cell_type": "code",
   "execution_count": 2,
   "id": "0b9d2642-b359-41fe-baab-eeec341202e2",
   "metadata": {
    "tags": []
   },
   "outputs": [],
   "source": [
    "base_path = \"E:/Focus stacking/2023-11-12 - Trichoptera/\"\n",
    "input_path = base_path+\"aligned/\"\n",
    "output_path = base_path+\"lumi_balance/\"\n",
    "stk.mkdir(output_path)"
   ]
  },
  {
   "cell_type": "code",
   "execution_count": 3,
   "id": "82e1310a-aa4d-4878-8e5e-2d87025348d8",
   "metadata": {},
   "outputs": [],
   "source": [
    "#img_lumi_balance(\"_MG_1784.jpg\", \"_MG_1754.jpg\", plot=False)"
   ]
  },
  {
   "cell_type": "code",
   "execution_count": 4,
   "id": "90da8dca-45fb-429c-8400-7ddaeea4777b",
   "metadata": {
    "tags": []
   },
   "outputs": [
    {
     "name": "stdout",
     "output_type": "stream",
     "text": [
      "Folder: 'E:/Focus stacking/2023-11-12 - Trichoptera/aligned/'\n",
      "- 65 files: _MG_0709.jpg, _MG_0710.jpg, _MG_0711.jpg, _MG_0712.jpg, _MG_0713.jpg, _MG_0714.jpg, _MG_0715.jpg, _MG_0716.jpg, _MG_0717.jpg, _MG_0718.jpg, _MG_0719.jpg, _MG_0720.jpg, _MG_0721.jpg, _MG_0722.jpg, _MG_0723.jpg, _MG_0724.jpg, _MG_0725.jpg, _MG_0726.jpg, _MG_0727.jpg, _MG_0728.jpg, _MG_0729.jpg, _MG_0730.jpg, _MG_0731.jpg, _MG_0732.jpg, _MG_0733.jpg, _MG_0734.jpg, _MG_0735.jpg, _MG_0736.jpg, _MG_0737.jpg, _MG_0738.jpg, _MG_0739.jpg, _MG_0740.jpg, _MG_0741.jpg, _MG_0742.jpg, _MG_0743.jpg, _MG_0744.jpg, _MG_0745.jpg, _MG_0746.jpg, _MG_0747.jpg, _MG_0748.jpg, _MG_0749.jpg, _MG_0750.jpg, _MG_0751.jpg, _MG_0752.jpg, _MG_0753.jpg, _MG_0754.jpg, _MG_0755.jpg, _MG_0756.jpg, _MG_0757.jpg, _MG_0758.jpg, _MG_0759.jpg, _MG_0760.jpg, _MG_0761.jpg, _MG_0762.jpg, _MG_0763.jpg, _MG_0764.jpg, _MG_0765.jpg, _MG_0766.jpg, _MG_0767.jpg, _MG_0768.jpg, _MG_0769.jpg, _MG_0770.jpg, _MG_0771.jpg, _MG_0772.jpg, _MG_0773.jpg\n",
      "_MG_0709.jpg\n",
      "143.4344->142.9025 (+0.37%), gamma = 1.1808\n",
      "_MG_0710.jpg\n",
      "143.4344->142.8573 (+0.40%), gamma = 1.1916\n",
      "_MG_0711.jpg\n",
      "143.4344->142.9008 (+0.37%), gamma = 1.1799\n",
      "_MG_0712.jpg\n",
      "143.4344->142.8900 (+0.38%), gamma = 1.1771\n",
      "_MG_0713.jpg\n",
      "143.4344->142.9207 (+0.36%), gamma = 1.1847\n",
      "_MG_0714.jpg\n",
      "143.4344->142.8878 (+0.38%), gamma = 1.1961\n",
      "_MG_0715.jpg\n",
      "143.4344->142.8941 (+0.38%), gamma = 1.1990\n",
      "_MG_0716.jpg\n",
      "143.4344->142.8675 (+0.40%), gamma = 1.1900\n",
      "_MG_0717.jpg\n",
      "143.4344->143.2388 (+0.14%), gamma = 1.0596\n",
      "_MG_0718.jpg\n",
      "143.4344->143.2601 (+0.12%), gamma = 1.0662\n",
      "_MG_0719.jpg\n",
      "143.4344->143.2274 (+0.14%), gamma = 1.0670\n",
      "_MG_0720.jpg\n",
      "143.4344->143.2763 (+0.11%), gamma = 1.0646\n",
      "_MG_0721.jpg\n",
      "143.4344->143.2544 (+0.13%), gamma = 1.0607\n",
      "_MG_0722.jpg\n",
      "143.4344->143.2708 (+0.11%), gamma = 1.0564\n",
      "_MG_0723.jpg\n",
      "143.4344->143.2569 (+0.12%), gamma = 1.0568\n",
      "_MG_0724.jpg\n",
      "143.4344->143.3073 (+0.09%), gamma = 1.0548\n",
      "_MG_0725.jpg\n",
      "143.4344->143.2642 (+0.12%), gamma = 1.0618\n",
      "_MG_0726.jpg\n",
      "143.4344->143.2963 (+0.10%), gamma = 1.0525\n",
      "_MG_0727.jpg\n",
      "143.4344->143.2927 (+0.10%), gamma = 1.0481\n",
      "_MG_0728.jpg\n",
      "143.4344->143.2702 (+0.11%), gamma = 1.0553\n",
      "_MG_0729.jpg\n",
      "143.4344->143.3184 (+0.08%), gamma = 1.0398\n",
      "_MG_0730.jpg\n",
      "143.4344->143.3549 (+0.06%), gamma = 1.0326\n",
      "_MG_0731.jpg\n",
      "143.4344->143.3687 (+0.05%), gamma = 1.0163\n",
      "_MG_0732.jpg\n",
      "143.4344->143.3596 (+0.05%), gamma = 1.0155\n",
      "_MG_0733.jpg\n",
      "143.4344->143.3771 (+0.04%), gamma = 1.0110\n",
      "_MG_0734.jpg\n",
      "143.4344->143.3660 (+0.05%), gamma = 1.0139\n",
      "_MG_0735.jpg\n",
      "143.4344->143.3602 (+0.05%), gamma = 1.0113\n",
      "_MG_0736.jpg\n",
      "143.4344->143.3724 (+0.04%), gamma = 1.0112\n",
      "_MG_0737.jpg\n",
      "143.4344->143.4047 (+0.02%), gamma = 1.0108\n",
      "_MG_0738.jpg\n",
      "143.4344->143.3504 (+0.06%), gamma = 1.0113\n",
      "_MG_0739.jpg\n",
      "143.4344->143.3738 (+0.04%), gamma = 1.0122\n",
      "_MG_0740.jpg\n",
      "143.4344->143.3416 (+0.06%), gamma = 1.0227\n",
      "_MG_0741.jpg\n",
      "_MG_0742.jpg\n",
      "143.4344->143.3766 (+0.04%), gamma = 1.0123\n",
      "_MG_0743.jpg\n",
      "143.4344->143.3827 (+0.04%), gamma = 1.0110\n",
      "_MG_0744.jpg\n",
      "143.4344->143.3710 (+0.04%), gamma = 1.0143\n",
      "_MG_0745.jpg\n",
      "143.4344->143.3559 (+0.05%), gamma = 1.0000\n",
      "_MG_0746.jpg\n",
      "143.4344->143.6858 (-0.18%), gamma = 0.9362\n",
      "_MG_0747.jpg\n",
      "143.4344->143.6806 (-0.17%), gamma = 0.9356\n",
      "_MG_0748.jpg\n",
      "143.4344->143.6192 (-0.13%), gamma = 0.9458\n",
      "_MG_0749.jpg\n",
      "143.4344->143.6659 (-0.16%), gamma = 0.9281\n",
      "_MG_0750.jpg\n",
      "143.4344->143.6763 (-0.17%), gamma = 0.9360\n",
      "_MG_0751.jpg\n",
      "143.4344->143.6173 (-0.13%), gamma = 0.9393\n",
      "_MG_0752.jpg\n",
      "143.4344->143.7289 (-0.20%), gamma = 0.9192\n",
      "_MG_0753.jpg\n",
      "143.4344->143.6675 (-0.16%), gamma = 0.9297\n",
      "_MG_0754.jpg\n",
      "143.4344->143.7238 (-0.20%), gamma = 0.9254\n",
      "_MG_0755.jpg\n",
      "143.4344->143.6619 (-0.16%), gamma = 0.9292\n",
      "_MG_0756.jpg\n",
      "143.4344->143.6619 (-0.16%), gamma = 0.9283\n",
      "_MG_0757.jpg\n",
      "143.4344->143.6693 (-0.16%), gamma = 0.9301\n",
      "_MG_0758.jpg\n",
      "143.4344->143.7254 (-0.20%), gamma = 0.9179\n",
      "_MG_0759.jpg\n",
      "143.4344->143.7367 (-0.21%), gamma = 0.9246\n",
      "_MG_0760.jpg\n",
      "143.4344->143.7177 (-0.20%), gamma = 0.9186\n",
      "_MG_0761.jpg\n",
      "143.4344->143.7174 (-0.20%), gamma = 0.9196\n",
      "_MG_0762.jpg\n",
      "143.4344->143.7347 (-0.21%), gamma = 0.9178\n",
      "_MG_0763.jpg\n",
      "143.4344->143.7166 (-0.20%), gamma = 0.9182\n",
      "_MG_0764.jpg\n",
      "143.4344->143.7710 (-0.23%), gamma = 0.9127\n",
      "_MG_0765.jpg\n",
      "143.4344->143.7729 (-0.24%), gamma = 0.9165\n",
      "_MG_0766.jpg\n",
      "143.4344->143.7692 (-0.23%), gamma = 0.9149\n",
      "_MG_0767.jpg\n",
      "143.4344->143.7912 (-0.25%), gamma = 0.9082\n",
      "_MG_0768.jpg\n",
      "143.4344->143.8115 (-0.26%), gamma = 0.9038\n",
      "_MG_0769.jpg\n",
      "143.4344->143.8040 (-0.26%), gamma = 0.9075\n",
      "_MG_0770.jpg\n",
      "143.4344->143.7624 (-0.23%), gamma = 0.9171\n",
      "_MG_0771.jpg\n",
      "143.4344->143.7697 (-0.23%), gamma = 0.9140\n",
      "_MG_0772.jpg\n",
      "143.4344->143.7649 (-0.23%), gamma = 0.9127\n",
      "_MG_0773.jpg\n",
      "143.4344->143.8091 (-0.26%), gamma = 0.9075\n"
     ]
    }
   ],
   "source": [
    "stk.lumi_balance(input_path, output_path, mask_size=0.8)"
   ]
  },
  {
   "cell_type": "code",
   "execution_count": null,
   "id": "03460cdb-e93d-4e3b-8518-989d4d8d3be3",
   "metadata": {},
   "outputs": [],
   "source": []
  }
 ],
 "metadata": {
  "kernelspec": {
   "display_name": "Python 3 (ipykernel)",
   "language": "python",
   "name": "python3"
  },
  "language_info": {
   "codemirror_mode": {
    "name": "ipython",
    "version": 3
   },
   "file_extension": ".py",
   "mimetype": "text/x-python",
   "name": "python",
   "nbconvert_exporter": "python",
   "pygments_lexer": "ipython3",
   "version": "3.11.5"
  }
 },
 "nbformat": 4,
 "nbformat_minor": 5
}
