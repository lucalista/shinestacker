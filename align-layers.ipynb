{
 "cells": [
  {
   "cell_type": "code",
   "execution_count": 1,
   "id": "28a0984c-38f3-456b-9a8b-a547e2084fe7",
   "metadata": {
    "tags": []
   },
   "outputs": [],
   "source": [
    "import focus_stack as stk"
   ]
  },
  {
   "cell_type": "code",
   "execution_count": 2,
   "id": "4a4d7244-215d-47f9-891e-621c9a52529c",
   "metadata": {
    "tags": []
   },
   "outputs": [],
   "source": [
    "base_path = \"E:/Focus stacking/2023-11-12 - Trichoptera/\"\n",
    "input_path = base_path+\"Immagini modificate\"\n",
    "align_path = base_path+\"aligned\"\n",
    "stk.mkdir(align_path)"
   ]
  },
  {
   "cell_type": "code",
   "execution_count": 3,
   "id": "028d7b09-3edf-4392-ae81-a6824ff9692b",
   "metadata": {
    "tags": []
   },
   "outputs": [
    {
     "name": "stdout",
     "output_type": "stream",
     "text": [
      "Folder: 'E:/Focus stacking/2023-11-12 - Trichoptera/Immagini modificate'\n",
      "- 65 files: _MG_0709.jpg, _MG_0710.jpg, _MG_0711.jpg, _MG_0712.jpg, _MG_0713.jpg, _MG_0714.jpg, _MG_0715.jpg, _MG_0716.jpg, _MG_0717.jpg, _MG_0718.jpg, _MG_0719.jpg, _MG_0720.jpg, _MG_0721.jpg, _MG_0722.jpg, _MG_0723.jpg, _MG_0724.jpg, _MG_0725.jpg, _MG_0726.jpg, _MG_0727.jpg, _MG_0728.jpg, _MG_0729.jpg, _MG_0730.jpg, _MG_0731.jpg, _MG_0732.jpg, _MG_0733.jpg, _MG_0734.jpg, _MG_0735.jpg, _MG_0736.jpg, _MG_0737.jpg, _MG_0738.jpg, _MG_0739.jpg, _MG_0740.jpg, _MG_0741.jpg, _MG_0742.jpg, _MG_0743.jpg, _MG_0744.jpg, _MG_0745.jpg, _MG_0746.jpg, _MG_0747.jpg, _MG_0748.jpg, _MG_0749.jpg, _MG_0750.jpg, _MG_0751.jpg, _MG_0752.jpg, _MG_0753.jpg, _MG_0754.jpg, _MG_0755.jpg, _MG_0756.jpg, _MG_0757.jpg, _MG_0758.jpg, _MG_0759.jpg, _MG_0760.jpg, _MG_0761.jpg, _MG_0762.jpg, _MG_0763.jpg, _MG_0764.jpg, _MG_0765.jpg, _MG_0766.jpg, _MG_0767.jpg, _MG_0768.jpg, _MG_0769.jpg, _MG_0770.jpg, _MG_0771.jpg, _MG_0772.jpg, _MG_0773.jpg\n",
      "align _MG_0741.jpg -> _MG_0741.jpg\n",
      "_MG_0742.jpg\n",
      "align _MG_0742.jpg -> _MG_0741.jpg\n",
      "matches:  327\n",
      "_MG_0743.jpg\n",
      "align _MG_0743.jpg -> _MG_0742.jpg\n"
     ]
    },
    {
     "ename": "KeyboardInterrupt",
     "evalue": "",
     "output_type": "error",
     "traceback": [
      "\u001b[1;31m---------------------------------------------------------------------------\u001b[0m",
      "\u001b[1;31mKeyboardInterrupt\u001b[0m                         Traceback (most recent call last)",
      "Cell \u001b[1;32mIn[3], line 1\u001b[0m\n\u001b[1;32m----> 1\u001b[0m stk\u001b[38;5;241m.\u001b[39malign_frames(input_path, align_path, detector_method\u001b[38;5;241m=\u001b[39m\u001b[38;5;124m'\u001b[39m\u001b[38;5;124mSIFT\u001b[39m\u001b[38;5;124m'\u001b[39m, descriptor_method\u001b[38;5;241m=\u001b[39m\u001b[38;5;124m'\u001b[39m\u001b[38;5;124mSIFT\u001b[39m\u001b[38;5;124m'\u001b[39m, match_method\u001b[38;5;241m=\u001b[39m\u001b[38;5;124m'\u001b[39m\u001b[38;5;124mKNN\u001b[39m\u001b[38;5;124m'\u001b[39m, flann_idx_kdtree\u001b[38;5;241m=\u001b[39m\u001b[38;5;241m2\u001b[39m, match_threshold\u001b[38;5;241m=\u001b[39m\u001b[38;5;241m0.75\u001b[39m)\n",
      "File \u001b[1;32m~\\Documents\\Stack\\focus_stack\\align.py:80\u001b[0m, in \u001b[0;36malign_frames\u001b[1;34m(input_path, align_path, step_align, ref_idx, detector_method, descriptor_method, match_method, flann_idx_kdtree, match_threshold, plot)\u001b[0m\n\u001b[0;32m     78\u001b[0m         img_align(fname_ref, fname, ref_path, input_path, align_path, detector_method, descriptor_method, match_method, flann_idx_kdtree, match_threshold, plot)\n\u001b[0;32m     79\u001b[0m         fname_ref\u001b[38;5;241m=\u001b[39mfname\n\u001b[1;32m---> 80\u001b[0m align_range(ref_idx, \u001b[38;5;28mrange\u001b[39m(ref_idx\u001b[38;5;241m+\u001b[39m\u001b[38;5;241m1\u001b[39m, \u001b[38;5;28mlen\u001b[39m(fnames)))\n\u001b[0;32m     81\u001b[0m align_range(ref_idx, \u001b[38;5;28mrange\u001b[39m(ref_idx\u001b[38;5;241m-\u001b[39m\u001b[38;5;241m1\u001b[39m, \u001b[38;5;241m-\u001b[39m\u001b[38;5;241m1\u001b[39m, \u001b[38;5;241m-\u001b[39m\u001b[38;5;241m1\u001b[39m))\n",
      "File \u001b[1;32m~\\Documents\\Stack\\focus_stack\\align.py:78\u001b[0m, in \u001b[0;36malign_frames.<locals>.align_range\u001b[1;34m(ref_idx, rng)\u001b[0m\n\u001b[0;32m     76\u001b[0m fname \u001b[38;5;241m=\u001b[39m fnames[i]\n\u001b[0;32m     77\u001b[0m \u001b[38;5;28mprint\u001b[39m(fname)\n\u001b[1;32m---> 78\u001b[0m img_align(fname_ref, fname, ref_path, input_path, align_path, detector_method, descriptor_method, match_method, flann_idx_kdtree, match_threshold, plot)\n\u001b[0;32m     79\u001b[0m fname_ref\u001b[38;5;241m=\u001b[39mfname\n",
      "File \u001b[1;32m~\\Documents\\Stack\\focus_stack\\align.py:25\u001b[0m, in \u001b[0;36mimg_align\u001b[1;34m(filename_ref, filename_0, ref_path, input_path, align_path, detector_method, descriptor_method, match_method, flann_idx_kdtree, match_threshold, plot)\u001b[0m\n\u001b[0;32m     23\u001b[0m \u001b[38;5;28;01melif\u001b[39;00m descriptor_method\u001b[38;5;241m==\u001b[39m\u001b[38;5;124m'\u001b[39m\u001b[38;5;124mAKAZE\u001b[39m\u001b[38;5;124m'\u001b[39m: descriptor \u001b[38;5;241m=\u001b[39m cv2\u001b[38;5;241m.\u001b[39mAKAZE_create()\n\u001b[0;32m     24\u001b[0m \u001b[38;5;28;01mif\u001b[39;00m detector_method\u001b[38;5;241m==\u001b[39mdescriptor_method \u001b[38;5;129;01mand\u001b[39;00m (detector_method\u001b[38;5;241m==\u001b[39m\u001b[38;5;124m'\u001b[39m\u001b[38;5;124mSIFT\u001b[39m\u001b[38;5;124m'\u001b[39m \u001b[38;5;129;01mor\u001b[39;00m detector_method\u001b[38;5;241m==\u001b[39m\u001b[38;5;124m'\u001b[39m\u001b[38;5;124mAKAZE\u001b[39m\u001b[38;5;124m'\u001b[39m):\n\u001b[1;32m---> 25\u001b[0m     kp_0, des_0 \u001b[38;5;241m=\u001b[39m detector\u001b[38;5;241m.\u001b[39mdetectAndCompute(img_bw_0, \u001b[38;5;28;01mNone\u001b[39;00m)\n\u001b[0;32m     26\u001b[0m     kp_1, des_1 \u001b[38;5;241m=\u001b[39m detector\u001b[38;5;241m.\u001b[39mdetectAndCompute(img_bw_1, \u001b[38;5;28;01mNone\u001b[39;00m)\n\u001b[0;32m     27\u001b[0m \u001b[38;5;28;01melse\u001b[39;00m:\n",
      "\u001b[1;31mKeyboardInterrupt\u001b[0m: "
     ]
    }
   ],
   "source": [
    "stk.align_frames(input_path, align_path, detector_method='SIFT', descriptor_method='SIFT', match_method='KNN', flann_idx_kdtree=2, match_threshold=0.75)"
   ]
  },
  {
   "cell_type": "code",
   "execution_count": null,
   "id": "8f7d505f-c361-4eb2-bd41-3f52d2ec4030",
   "metadata": {},
   "outputs": [],
   "source": [
    "#img_align('_MG_0713.jpg', '_MG_0712.jpg', input_path, input_path, align_path,  detector_method='SIFT', descriptor_method='SIFT', match_method='KNN', match_threshold=0.75, plot=True)"
   ]
  },
  {
   "cell_type": "code",
   "execution_count": null,
   "id": "9eec476a-8222-47ca-ba03-1b9d5602a564",
   "metadata": {},
   "outputs": [],
   "source": []
  }
 ],
 "metadata": {
  "kernelspec": {
   "display_name": "Python 3 (ipykernel)",
   "language": "python",
   "name": "python3"
  },
  "language_info": {
   "codemirror_mode": {
    "name": "ipython",
    "version": 3
   },
   "file_extension": ".py",
   "mimetype": "text/x-python",
   "name": "python",
   "nbconvert_exporter": "python",
   "pygments_lexer": "ipython3",
   "version": "3.11.5"
  }
 },
 "nbformat": 4,
 "nbformat_minor": 5
}
