{
 "cells": [
  {
   "cell_type": "code",
   "execution_count": 5,
   "id": "28933727-6c33-4b23-a18f-fe0259c26d99",
   "metadata": {
    "tags": []
   },
   "outputs": [],
   "source": [
    "import focus_stack as stk"
   ]
  },
  {
   "cell_type": "code",
   "execution_count": 6,
   "id": "cfcf0407-fd34-4b6f-9f0c-3e2801d7f43a",
   "metadata": {
    "tags": []
   },
   "outputs": [],
   "source": [
    "class Action1:\n",
    "    def run(self):\n",
    "        print(\"run 1\")\n",
    "        time.sleep(0.5)\n",
    "        \n",
    "class Action2:\n",
    "    def run(self):\n",
    "        print(\"run 2\")\n",
    "        time.sleep(0.7)\n",
    "\n",
    "class MyActionList(stk.ActionList):\n",
    "    def __init__(self, name, counts):\n",
    "        ActionList.__init__(self, name, counts)\n",
    "    def run_step(self):\n",
    "        print(\"action: {} \".format(self.count), end='\\r')\n",
    "        time.sleep(0.1)"
   ]
  },
  {
   "cell_type": "code",
   "execution_count": 7,
   "id": "bcf1f00f-132f-4087-8491-cf4bdfe52f9b",
   "metadata": {
    "tags": []
   },
   "outputs": [],
   "source": [
    "job = stk.Job(\"job\")"
   ]
  },
  {
   "cell_type": "code",
   "execution_count": 8,
   "id": "388bdf77-5878-4475-9fa9-a6de063f4c4b",
   "metadata": {
    "tags": []
   },
   "outputs": [
    {
     "ename": "NameError",
     "evalue": "name 'ActionList' is not defined",
     "output_type": "error",
     "traceback": [
      "\u001b[1;31m---------------------------------------------------------------------------\u001b[0m",
      "\u001b[1;31mNameError\u001b[0m                                 Traceback (most recent call last)",
      "Cell \u001b[1;32mIn[8], line 3\u001b[0m\n\u001b[0;32m      1\u001b[0m job\u001b[38;5;241m.\u001b[39madd_action(Action1())\n\u001b[0;32m      2\u001b[0m job\u001b[38;5;241m.\u001b[39madd_action(Action2())\n\u001b[1;32m----> 3\u001b[0m job\u001b[38;5;241m.\u001b[39madd_action(MyActionList(\u001b[38;5;124m\"\u001b[39m\u001b[38;5;124maction list\u001b[39m\u001b[38;5;124m\"\u001b[39m, \u001b[38;5;241m10\u001b[39m))\n",
      "Cell \u001b[1;32mIn[6], line 13\u001b[0m, in \u001b[0;36mMyActionList.__init__\u001b[1;34m(self, name, counts)\u001b[0m\n\u001b[0;32m     12\u001b[0m \u001b[38;5;28;01mdef\u001b[39;00m \u001b[38;5;21m__init__\u001b[39m(\u001b[38;5;28mself\u001b[39m, name, counts):\n\u001b[1;32m---> 13\u001b[0m     ActionList\u001b[38;5;241m.\u001b[39m\u001b[38;5;21m__init__\u001b[39m(\u001b[38;5;28mself\u001b[39m, name, counts)\n",
      "\u001b[1;31mNameError\u001b[0m: name 'ActionList' is not defined"
     ]
    }
   ],
   "source": [
    "job.add_action(Action1())\n",
    "job.add_action(Action2())\n",
    "job.add_action(MyActionList(\"action list\", 10))"
   ]
  },
  {
   "cell_type": "code",
   "execution_count": null,
   "id": "359969e0-3f25-459c-999e-184503f38578",
   "metadata": {
    "tags": []
   },
   "outputs": [],
   "source": [
    "job.run()"
   ]
  },
  {
   "cell_type": "code",
   "execution_count": null,
   "id": "c6940470-5687-44ac-ac3f-f5f435b06d2a",
   "metadata": {},
   "outputs": [],
   "source": []
  }
 ],
 "metadata": {
  "kernelspec": {
   "display_name": "Python 3 (ipykernel)",
   "language": "python",
   "name": "python3"
  },
  "language_info": {
   "codemirror_mode": {
    "name": "ipython",
    "version": 3
   },
   "file_extension": ".py",
   "mimetype": "text/x-python",
   "name": "python",
   "nbconvert_exporter": "python",
   "pygments_lexer": "ipython3",
   "version": "3.11.5"
  }
 },
 "nbformat": 4,
 "nbformat_minor": 5
}
