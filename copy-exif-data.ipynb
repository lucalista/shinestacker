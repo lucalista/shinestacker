{
 "cells": [
  {
   "cell_type": "code",
   "execution_count": 1,
   "id": "4a11655a-1094-4bf0-b4d5-9babc9ce4caf",
   "metadata": {
    "tags": []
   },
   "outputs": [],
   "source": [
    "from PIL import Image\n",
    "import time\n",
    "import focus_stack as stk"
   ]
  },
  {
   "cell_type": "code",
   "execution_count": 2,
   "id": "91be2544-9071-450b-939b-3c2b6812c89d",
   "metadata": {
    "tags": []
   },
   "outputs": [],
   "source": [
    "base_path = 'E:/Focus stacking/2024-03-02 - Diptera 2/A'\n",
    "input_exif = base_path + '/Immagini modificate/_MG_5186.jpg'\n",
    "input_img = base_path + '/stacked/_MG_5186_stack_pyr.jpg'\n",
    "output_img = base_path + '/stacked/exif.jpg'"
   ]
  },
  {
   "cell_type": "code",
   "execution_count": 3,
   "id": "c741af30-29d8-469b-82c4-6c4359fd83c4",
   "metadata": {
    "tags": []
   },
   "outputs": [
    {
     "name": "stdout",
     "output_type": "stream",
     "text": [
      "elapsed time: 0:0.28s\n"
     ]
    }
   ],
   "source": [
    "t0 = time.time()\n",
    "image = Image.open(input_exif)\n",
    "exif = image.info['exif']\n",
    "image_new = Image.open(input_img)\n",
    "image_new.save(output_img, 'JPEG', exif=exif)\n",
    "stk.print_elapsed_time(t0)"
   ]
  },
  {
   "cell_type": "code",
   "execution_count": null,
   "id": "6a09327b-73ad-46b6-bb54-a8cae4a4bceb",
   "metadata": {},
   "outputs": [],
   "source": []
  }
 ],
 "metadata": {
  "kernelspec": {
   "display_name": "Python 3 (ipykernel)",
   "language": "python",
   "name": "python3"
  },
  "language_info": {
   "codemirror_mode": {
    "name": "ipython",
    "version": 3
   },
   "file_extension": ".py",
   "mimetype": "text/x-python",
   "name": "python",
   "nbconvert_exporter": "python",
   "pygments_lexer": "ipython3",
   "version": "3.11.5"
  }
 },
 "nbformat": 4,
 "nbformat_minor": 5
}
